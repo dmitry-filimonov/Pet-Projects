{
 "cells": [
  {
   "cell_type": "markdown",
   "id": "945b571d",
   "metadata": {},
   "source": [
    "Для исследования были выбраны следующие карьерные каналы для специалистов Data Science:\n",
    "\n",
    "- https://t.me/data_hr\n",
    "- https://t.me/biheadhunter\n",
    "- https://t.me/datajob\n",
    "- https://t.me/analyst_job\n",
    "- https://t.me/foranalysts\n",
    "- https://t.me/bds_job\n",
    "- https://t.me/datasciencejobs\n",
    "\n",
    "Каналы содержат вакансии для различных специалистов в области науки о данных, таких как Data Scientist/Engineer, а также специальностей System/Business Analyst. В рамках исследования будут рассмотрены лишь вакансии аналитиков данных и смежных специалистов - Data/Product/BI Analyst. После парсинга данных сырые данные сразу будут отфильтрованы для подходящих вакансий. "
   ]
  },
  {
   "cell_type": "code",
   "execution_count": 1,
   "id": "43f8cc49",
   "metadata": {},
   "outputs": [],
   "source": [
    "# !pip install pyrogram tgcrypto"
   ]
  },
  {
   "cell_type": "code",
   "execution_count": 2,
   "id": "842e08ec",
   "metadata": {},
   "outputs": [],
   "source": [
    "# !pip install python-dotenv"
   ]
  },
  {
   "cell_type": "code",
   "execution_count": 3,
   "id": "84d23e77",
   "metadata": {},
   "outputs": [],
   "source": [
    "# импортируем библиотеки для сбора и первичной обработки данных\n",
    "\n",
    "import pyrogram\n",
    "import requests\n",
    "import nltk\n",
    "import json\n",
    "import re\n",
    "import os\n",
    "\n",
    "import numpy as np\n",
    "import pandas as pd\n",
    "\n",
    "from bs4 import BeautifulSoup\n",
    "from dotenv import load_dotenv\n",
    "from pyrogram import Client\n",
    "from tqdm.auto import tqdm \n",
    "tqdm.pandas()\n"
   ]
  },
  {
   "cell_type": "code",
   "execution_count": 4,
   "id": "ae73dd46",
   "metadata": {},
   "outputs": [],
   "source": [
    "# подготавливаем данные для парсера\n",
    "\n",
    "dotenv_path = os.path.join('dot.env')\n",
    "\n",
    "if os.path.exists(dotenv_path):\n",
    "    load_dotenv(dotenv_path)\n",
    "\n",
    "os.environ['DEMO']\n",
    "\n",
    "API_ID = os.environ['API_ID']\n",
    "API_HASH = os.environ['API_HASH']"
   ]
  },
  {
   "cell_type": "code",
   "execution_count": 5,
   "id": "94031ae0",
   "metadata": {},
   "outputs": [],
   "source": [
    "# скрипт парсера\n",
    "\n",
    "# from pyrogram import Client\n",
    "# import os\n",
    "# from dotenv import load_dotenv\n",
    "# import pandas as pd\n",
    "\n",
    "\n",
    "# path = os.path.dirname(os.path.abspath(__file__))\n",
    "\n",
    "# dotenv_path = os.path.join(path + '/dot.env')\n",
    "# if os.path.exists(dotenv_path):\n",
    "#     load_dotenv(dotenv_path)\n",
    "    \n",
    "# API_ID = os.environ['API_ID']\n",
    "# API_HASH = os.environ['API_HASH']\n",
    "\n",
    "# targets = ['data_hr', 'biheadhunter', 'datajob', 'analyst_job', \n",
    "# 'foranalysts','bds_job', 'datasciencejobs']\n",
    "# all_messages = []\n",
    "\n",
    "# try:\n",
    "#     with Client(\"my_account\", API_ID, API_HASH) as app:\n",
    "#         for target in targets:\n",
    "#             for message in app.get_chat_history(target, limit=2000):\n",
    "#                 all_messages.append([message.sender_chat, message.id, message.date, message.text, message.entities])\n",
    "    \n",
    "#     df = pd.DataFrame(all_messages)\n",
    "#     df.columns = [\"chat\", \"message_id\", \"date\", \"text\", \"entities\"]\n",
    "#     df.to_csv(path + '/data.csv', index=False)\n",
    "#     print('Success: ', path + '/data.csv')\n",
    "# except Exception as e:\n",
    "#     print('Error: ', e)"
   ]
  },
  {
   "cell_type": "markdown",
   "id": "3b2a28d3",
   "metadata": {},
   "source": [
    "Запускаем скрипт парсера из терминала:"
   ]
  },
  {
   "cell_type": "code",
   "execution_count": 18,
   "id": "d2d9c8d1",
   "metadata": {},
   "outputs": [
    {
     "name": "stdout",
     "output_type": "stream",
     "text": [
      "Success:  /mnt/c/Users/dmitr/GitHub/Pet-Projects/Telegram-Parsing/parsed_data.csv\n"
     ]
    }
   ],
   "source": [
    "%%bash\n",
    "python3 parser_script.py"
   ]
  },
  {
   "cell_type": "code",
   "execution_count": 19,
   "id": "430fce9e",
   "metadata": {},
   "outputs": [
    {
     "name": "stdout",
     "output_type": "stream",
     "text": [
      "<class 'pandas.core.frame.DataFrame'>\n",
      "RangeIndex: 6139 entries, 0 to 6138\n",
      "Data columns (total 5 columns):\n",
      " #   Column      Non-Null Count  Dtype         \n",
      "---  ------      --------------  -----         \n",
      " 0   chat        4142 non-null   object        \n",
      " 1   message_id  6139 non-null   int64         \n",
      " 2   date        6139 non-null   datetime64[ns]\n",
      " 3   text        5538 non-null   object        \n",
      " 4   entities    5410 non-null   object        \n",
      "dtypes: datetime64[ns](1), int64(1), object(3)\n",
      "memory usage: 239.9+ KB\n"
     ]
    },
    {
     "data": {
      "text/html": [
       "<div>\n",
       "<style scoped>\n",
       "    .dataframe tbody tr th:only-of-type {\n",
       "        vertical-align: middle;\n",
       "    }\n",
       "\n",
       "    .dataframe tbody tr th {\n",
       "        vertical-align: top;\n",
       "    }\n",
       "\n",
       "    .dataframe thead th {\n",
       "        text-align: right;\n",
       "    }\n",
       "</style>\n",
       "<table border=\"1\" class=\"dataframe\">\n",
       "  <thead>\n",
       "    <tr style=\"text-align: right;\">\n",
       "      <th></th>\n",
       "      <th>chat</th>\n",
       "      <th>message_id</th>\n",
       "      <th>date</th>\n",
       "      <th>text</th>\n",
       "      <th>entities</th>\n",
       "    </tr>\n",
       "  </thead>\n",
       "  <tbody>\n",
       "    <tr>\n",
       "      <th>641</th>\n",
       "      <td>{\\n    \"_\": \"Chat\",\\n    \"id\": -1001291755040,...</td>\n",
       "      <td>286</td>\n",
       "      <td>2020-10-28 17:11:54</td>\n",
       "      <td>#вакансия #вакансияархитекторБД #вакансияmssql...</td>\n",
       "      <td>[\\n    {\\n        \"_\": \"MessageEntity\",\\n     ...</td>\n",
       "    </tr>\n",
       "    <tr>\n",
       "      <th>2060</th>\n",
       "      <td>NaN</td>\n",
       "      <td>59581</td>\n",
       "      <td>2022-09-07 13:08:50</td>\n",
       "      <td>Cheremushkina Ekaterina: \\n#вакансия #системны...</td>\n",
       "      <td>[\\n    {\\n        \"_\": \"MessageEntity\",\\n     ...</td>\n",
       "    </tr>\n",
       "    <tr>\n",
       "      <th>1001</th>\n",
       "      <td>{\\n    \"_\": \"Chat\",\\n    \"id\": -1001483488834,...</td>\n",
       "      <td>406</td>\n",
       "      <td>2022-05-31 18:00:02</td>\n",
       "      <td>👔 Разработчик Python\\n⛳️ Яндекс Диск\\n💼🥁 Работ...</td>\n",
       "      <td>[\\n    {\\n        \"_\": \"MessageEntity\",\\n     ...</td>\n",
       "    </tr>\n",
       "    <tr>\n",
       "      <th>1136</th>\n",
       "      <td>{\\n    \"_\": \"Chat\",\\n    \"id\": -1001483488834,...</td>\n",
       "      <td>267</td>\n",
       "      <td>2021-11-29 18:26:34</td>\n",
       "      <td>NaN</td>\n",
       "      <td>NaN</td>\n",
       "    </tr>\n",
       "    <tr>\n",
       "      <th>5222</th>\n",
       "      <td>{\\n    \"_\": \"Chat\",\\n    \"id\": -1001321264581,...</td>\n",
       "      <td>979</td>\n",
       "      <td>2022-06-01 09:31:10</td>\n",
       "      <td>#вакансия #python #ML #DE #backend #senior #mi...</td>\n",
       "      <td>[\\n    {\\n        \"_\": \"MessageEntity\",\\n     ...</td>\n",
       "    </tr>\n",
       "    <tr>\n",
       "      <th>1580</th>\n",
       "      <td>NaN</td>\n",
       "      <td>60409</td>\n",
       "      <td>2022-09-26 12:38:46</td>\n",
       "      <td>NaN</td>\n",
       "      <td>NaN</td>\n",
       "    </tr>\n",
       "    <tr>\n",
       "      <th>3034</th>\n",
       "      <td>NaN</td>\n",
       "      <td>58014</td>\n",
       "      <td>2022-07-27 15:07:01</td>\n",
       "      <td>#резюме\\n\\nДобрый день! Меня зовут Анастасия. ...</td>\n",
       "      <td>[\\n    {\\n        \"_\": \"MessageEntity\",\\n     ...</td>\n",
       "    </tr>\n",
       "    <tr>\n",
       "      <th>3472</th>\n",
       "      <td>{\\n    \"_\": \"Chat\",\\n    \"id\": -1001137236002,...</td>\n",
       "      <td>4721</td>\n",
       "      <td>2022-09-06 17:05:08</td>\n",
       "      <td>Data Analyst\\nв Akvelon — международная аутсор...</td>\n",
       "      <td>[\\n    {\\n        \"_\": \"MessageEntity\",\\n     ...</td>\n",
       "    </tr>\n",
       "    <tr>\n",
       "      <th>2443</th>\n",
       "      <td>NaN</td>\n",
       "      <td>58992</td>\n",
       "      <td>2022-08-24 11:32:50</td>\n",
       "      <td>#вакансия #системныйаналитик #СА #systemanalys...</td>\n",
       "      <td>[\\n    {\\n        \"_\": \"MessageEntity\",\\n     ...</td>\n",
       "    </tr>\n",
       "    <tr>\n",
       "      <th>3479</th>\n",
       "      <td>{\\n    \"_\": \"Chat\",\\n    \"id\": -1001137236002,...</td>\n",
       "      <td>4714</td>\n",
       "      <td>2022-09-05 10:54:13</td>\n",
       "      <td>Старший системный аналитик\\nв Prodamus — IT-ко...</td>\n",
       "      <td>[\\n    {\\n        \"_\": \"MessageEntity\",\\n     ...</td>\n",
       "    </tr>\n",
       "  </tbody>\n",
       "</table>\n",
       "</div>"
      ],
      "text/plain": [
       "                                                   chat  message_id  \\\n",
       "641   {\\n    \"_\": \"Chat\",\\n    \"id\": -1001291755040,...         286   \n",
       "2060                                                NaN       59581   \n",
       "1001  {\\n    \"_\": \"Chat\",\\n    \"id\": -1001483488834,...         406   \n",
       "1136  {\\n    \"_\": \"Chat\",\\n    \"id\": -1001483488834,...         267   \n",
       "5222  {\\n    \"_\": \"Chat\",\\n    \"id\": -1001321264581,...         979   \n",
       "1580                                                NaN       60409   \n",
       "3034                                                NaN       58014   \n",
       "3472  {\\n    \"_\": \"Chat\",\\n    \"id\": -1001137236002,...        4721   \n",
       "2443                                                NaN       58992   \n",
       "3479  {\\n    \"_\": \"Chat\",\\n    \"id\": -1001137236002,...        4714   \n",
       "\n",
       "                    date                                               text  \\\n",
       "641  2020-10-28 17:11:54  #вакансия #вакансияархитекторБД #вакансияmssql...   \n",
       "2060 2022-09-07 13:08:50  Cheremushkina Ekaterina: \\n#вакансия #системны...   \n",
       "1001 2022-05-31 18:00:02  👔 Разработчик Python\\n⛳️ Яндекс Диск\\n💼🥁 Работ...   \n",
       "1136 2021-11-29 18:26:34                                                NaN   \n",
       "5222 2022-06-01 09:31:10  #вакансия #python #ML #DE #backend #senior #mi...   \n",
       "1580 2022-09-26 12:38:46                                                NaN   \n",
       "3034 2022-07-27 15:07:01  #резюме\\n\\nДобрый день! Меня зовут Анастасия. ...   \n",
       "3472 2022-09-06 17:05:08  Data Analyst\\nв Akvelon — международная аутсор...   \n",
       "2443 2022-08-24 11:32:50  #вакансия #системныйаналитик #СА #systemanalys...   \n",
       "3479 2022-09-05 10:54:13  Старший системный аналитик\\nв Prodamus — IT-ко...   \n",
       "\n",
       "                                               entities  \n",
       "641   [\\n    {\\n        \"_\": \"MessageEntity\",\\n     ...  \n",
       "2060  [\\n    {\\n        \"_\": \"MessageEntity\",\\n     ...  \n",
       "1001  [\\n    {\\n        \"_\": \"MessageEntity\",\\n     ...  \n",
       "1136                                                NaN  \n",
       "5222  [\\n    {\\n        \"_\": \"MessageEntity\",\\n     ...  \n",
       "1580                                                NaN  \n",
       "3034  [\\n    {\\n        \"_\": \"MessageEntity\",\\n     ...  \n",
       "3472  [\\n    {\\n        \"_\": \"MessageEntity\",\\n     ...  \n",
       "2443  [\\n    {\\n        \"_\": \"MessageEntity\",\\n     ...  \n",
       "3479  [\\n    {\\n        \"_\": \"MessageEntity\",\\n     ...  "
      ]
     },
     "execution_count": 19,
     "metadata": {},
     "output_type": "execute_result"
    }
   ],
   "source": [
    "# сохраняем данные и выводим основную информацию\n",
    "\n",
    "data = pd.read_csv('parsed_data.csv', parse_dates=['date'])\n",
    "\n",
    "data.info()\n",
    "data.sample(10, random_state=0)"
   ]
  },
  {
   "cell_type": "markdown",
   "id": "6fe6ea38",
   "metadata": {},
   "source": [
    "Получили сырые данные, состоящие из 5,979 строк и 5 столбцов. Для оптимизации дальнейшей обработки попробуем сразу отфильтровать вакансии для аналитиков данных с помощью регулярного выражения:"
   ]
  },
  {
   "cell_type": "code",
   "execution_count": 8,
   "id": "eb8ab0cc",
   "metadata": {},
   "outputs": [],
   "source": [
    "# удалим данные с пропущенным значение в столбце 'text'\n",
    "\n",
    "data.dropna(subset=['text'], inplace=True)"
   ]
  },
  {
   "cell_type": "code",
   "execution_count": 9,
   "id": "c5bb5518",
   "metadata": {},
   "outputs": [],
   "source": [
    "# пишем регулярное выражения для поиска подходящих вакансий\n",
    "\n",
    "da = r'analyst|analysis|аналитик|business intelligence|tablea|product'\n",
    "da_1 = r'analyst|analysis|аналитик'"
   ]
  },
  {
   "cell_type": "code",
   "execution_count": 10,
   "id": "97fa355b",
   "metadata": {},
   "outputs": [],
   "source": [
    "data['da'] = (\n",
    "    data['text']\n",
    "    .apply(\n",
    "        lambda x: True if re.search(da, x.lower()) else False\n",
    "    )\n",
    ")"
   ]
  },
  {
   "cell_type": "code",
   "execution_count": 11,
   "id": "6012546e",
   "metadata": {
    "scrolled": true
   },
   "outputs": [
    {
     "name": "stdout",
     "output_type": "stream",
     "text": [
      "<class 'pandas.core.frame.DataFrame'>\n",
      "Int64Index: 5435 entries, 0 to 5977\n",
      "Data columns (total 6 columns):\n",
      " #   Column      Non-Null Count  Dtype         \n",
      "---  ------      --------------  -----         \n",
      " 0   chat        3554 non-null   object        \n",
      " 1   message_id  5435 non-null   int64         \n",
      " 2   date        5435 non-null   datetime64[ns]\n",
      " 3   text        5435 non-null   object        \n",
      " 4   entities    5317 non-null   object        \n",
      " 5   da          5435 non-null   bool          \n",
      "dtypes: bool(1), datetime64[ns](1), int64(1), object(3)\n",
      "memory usage: 260.1+ KB\n"
     ]
    },
    {
     "data": {
      "text/plain": [
       "True     3867\n",
       "False    1568\n",
       "Name: da, dtype: int64"
      ]
     },
     "execution_count": 11,
     "metadata": {},
     "output_type": "execute_result"
    }
   ],
   "source": [
    "data.info()\n",
    "data['da'].value_counts()"
   ]
  },
  {
   "cell_type": "code",
   "execution_count": 12,
   "id": "0173a683",
   "metadata": {},
   "outputs": [
    {
     "name": "stdout",
     "output_type": "stream",
     "text": [
      "<class 'pandas.core.frame.DataFrame'>\n",
      "Int64Index: 5435 entries, 0 to 5977\n",
      "Data columns (total 6 columns):\n",
      " #   Column      Non-Null Count  Dtype         \n",
      "---  ------      --------------  -----         \n",
      " 0   chat        3554 non-null   object        \n",
      " 1   message_id  5435 non-null   int64         \n",
      " 2   date        5435 non-null   datetime64[ns]\n",
      " 3   text        5435 non-null   object        \n",
      " 4   entities    5317 non-null   object        \n",
      " 5   da          5435 non-null   bool          \n",
      "dtypes: bool(1), datetime64[ns](1), int64(1), object(3)\n",
      "memory usage: 260.1+ KB\n"
     ]
    }
   ],
   "source": [
    "data.info()"
   ]
  },
  {
   "cell_type": "code",
   "execution_count": 13,
   "id": "827e34c4",
   "metadata": {},
   "outputs": [],
   "source": [
    "# удалим пропущенные значения\n",
    "\n",
    "data = (\n",
    "    data\n",
    "    .dropna()\n",
    "    .reset_index(drop=True)\n",
    ")\n",
    "\n",
    "# добавим столбец с названием чата\n",
    "\n",
    "data[\"chat_title\"] = (\n",
    "    data[\"chat\"]\n",
    "    .apply(lambda x: json.loads(x)['title'])\n",
    ")"
   ]
  },
  {
   "cell_type": "code",
   "execution_count": 14,
   "id": "08aadc29",
   "metadata": {},
   "outputs": [],
   "source": [
    "# пишем функцию для извлечения ссылок из текста сообщений\n",
    "# и добавляем в отдельный столбец\n",
    "\n",
    "def get_links(x, regexp='http\\S+'):\n",
    "    try:\n",
    "        for i in json.loads(x['entities']):\n",
    "            if i['type'] == 'MessageEntityType.TEXT_LINK':\n",
    "                return i['url']\n",
    "            elif i['type'] == 'MessageEntityType.URL':\n",
    "                url = re.findall(regexp, x['text'])[0]\n",
    "                return url        \n",
    "    except:\n",
    "        return None\n",
    "    \n",
    "data['link'] = data.apply(get_links, axis=1)"
   ]
  },
  {
   "cell_type": "markdown",
   "id": "5862a051",
   "metadata": {},
   "source": [
    "# Парсинг html"
   ]
  },
  {
   "cell_type": "code",
   "execution_count": 15,
   "id": "3c2161ac",
   "metadata": {},
   "outputs": [],
   "source": [
    "# пишем функцию для парсинга ссылок\n",
    "\n",
    "def parse_site(url, element='div', extra_info=None):\n",
    "    try:\n",
    "        data = requests.get(url).text ###\n",
    "        soup = BeautifulSoup(data)\n",
    "        elements = []\n",
    "        for extra in extra_info:\n",
    "            elements += soup.find_all(element, extra)\n",
    "        html = ''\n",
    "        for i in elements:\n",
    "            html += str(i)\n",
    "        return html\n",
    "    except Exception as e:\n",
    "        return '<p>Не удалось получить элемент</p>'"
   ]
  },
  {
   "cell_type": "code",
   "execution_count": 16,
   "id": "3e2e0bb6",
   "metadata": {},
   "outputs": [],
   "source": [
    "# заранее добавили известные классы на рассматриваемых сайтах\n",
    "\n",
    "# extra_infos = [{'class': 'list-parent vacancy-desc'}, \n",
    "#                {'class': 'bp-Vacancy__description bp-VacancyDescription'}, \n",
    "#                {'id': 'vacancy-description'},\n",
    "#                {'class': 'section__block panel js-show'}]\n",
    "\n",
    "# # парсим ссылки\n",
    "\n",
    "# data['parsed_text'] = (\n",
    "#     data['link']\n",
    "#     .progress_apply(lambda x: parse_site(x, extra_info=extra_infos))\n",
    "# )"
   ]
  },
  {
   "cell_type": "code",
   "execution_count": 20,
   "id": "abb2ddb7",
   "metadata": {},
   "outputs": [
    {
     "name": "stdout",
     "output_type": "stream",
     "text": [
      "<class 'pandas.core.frame.DataFrame'>\n",
      "RangeIndex: 6139 entries, 0 to 6138\n",
      "Data columns (total 5 columns):\n",
      " #   Column      Non-Null Count  Dtype         \n",
      "---  ------      --------------  -----         \n",
      " 0   chat        4142 non-null   object        \n",
      " 1   message_id  6139 non-null   int64         \n",
      " 2   date        6139 non-null   datetime64[ns]\n",
      " 3   text        5538 non-null   object        \n",
      " 4   entities    5410 non-null   object        \n",
      "dtypes: datetime64[ns](1), int64(1), object(3)\n",
      "memory usage: 239.9+ KB\n"
     ]
    },
    {
     "data": {
      "text/html": [
       "<div>\n",
       "<style scoped>\n",
       "    .dataframe tbody tr th:only-of-type {\n",
       "        vertical-align: middle;\n",
       "    }\n",
       "\n",
       "    .dataframe tbody tr th {\n",
       "        vertical-align: top;\n",
       "    }\n",
       "\n",
       "    .dataframe thead th {\n",
       "        text-align: right;\n",
       "    }\n",
       "</style>\n",
       "<table border=\"1\" class=\"dataframe\">\n",
       "  <thead>\n",
       "    <tr style=\"text-align: right;\">\n",
       "      <th></th>\n",
       "      <th>chat</th>\n",
       "      <th>message_id</th>\n",
       "      <th>date</th>\n",
       "      <th>text</th>\n",
       "      <th>entities</th>\n",
       "    </tr>\n",
       "  </thead>\n",
       "  <tbody>\n",
       "    <tr>\n",
       "      <th>641</th>\n",
       "      <td>{\\n    \"_\": \"Chat\",\\n    \"id\": -1001291755040,...</td>\n",
       "      <td>286</td>\n",
       "      <td>2020-10-28 17:11:54</td>\n",
       "      <td>#вакансия #вакансияархитекторБД #вакансияmssql...</td>\n",
       "      <td>[\\n    {\\n        \"_\": \"MessageEntity\",\\n     ...</td>\n",
       "    </tr>\n",
       "    <tr>\n",
       "      <th>2060</th>\n",
       "      <td>NaN</td>\n",
       "      <td>59581</td>\n",
       "      <td>2022-09-07 13:08:50</td>\n",
       "      <td>Cheremushkina Ekaterina: \\n#вакансия #системны...</td>\n",
       "      <td>[\\n    {\\n        \"_\": \"MessageEntity\",\\n     ...</td>\n",
       "    </tr>\n",
       "    <tr>\n",
       "      <th>1001</th>\n",
       "      <td>{\\n    \"_\": \"Chat\",\\n    \"id\": -1001483488834,...</td>\n",
       "      <td>406</td>\n",
       "      <td>2022-05-31 18:00:02</td>\n",
       "      <td>👔 Разработчик Python\\n⛳️ Яндекс Диск\\n💼🥁 Работ...</td>\n",
       "      <td>[\\n    {\\n        \"_\": \"MessageEntity\",\\n     ...</td>\n",
       "    </tr>\n",
       "    <tr>\n",
       "      <th>1136</th>\n",
       "      <td>{\\n    \"_\": \"Chat\",\\n    \"id\": -1001483488834,...</td>\n",
       "      <td>267</td>\n",
       "      <td>2021-11-29 18:26:34</td>\n",
       "      <td>NaN</td>\n",
       "      <td>NaN</td>\n",
       "    </tr>\n",
       "    <tr>\n",
       "      <th>5222</th>\n",
       "      <td>{\\n    \"_\": \"Chat\",\\n    \"id\": -1001321264581,...</td>\n",
       "      <td>979</td>\n",
       "      <td>2022-06-01 09:31:10</td>\n",
       "      <td>#вакансия #python #ML #DE #backend #senior #mi...</td>\n",
       "      <td>[\\n    {\\n        \"_\": \"MessageEntity\",\\n     ...</td>\n",
       "    </tr>\n",
       "  </tbody>\n",
       "</table>\n",
       "</div>"
      ],
      "text/plain": [
       "                                                   chat  message_id  \\\n",
       "641   {\\n    \"_\": \"Chat\",\\n    \"id\": -1001291755040,...         286   \n",
       "2060                                                NaN       59581   \n",
       "1001  {\\n    \"_\": \"Chat\",\\n    \"id\": -1001483488834,...         406   \n",
       "1136  {\\n    \"_\": \"Chat\",\\n    \"id\": -1001483488834,...         267   \n",
       "5222  {\\n    \"_\": \"Chat\",\\n    \"id\": -1001321264581,...         979   \n",
       "\n",
       "                    date                                               text  \\\n",
       "641  2020-10-28 17:11:54  #вакансия #вакансияархитекторБД #вакансияmssql...   \n",
       "2060 2022-09-07 13:08:50  Cheremushkina Ekaterina: \\n#вакансия #системны...   \n",
       "1001 2022-05-31 18:00:02  👔 Разработчик Python\\n⛳️ Яндекс Диск\\n💼🥁 Работ...   \n",
       "1136 2021-11-29 18:26:34                                                NaN   \n",
       "5222 2022-06-01 09:31:10  #вакансия #python #ML #DE #backend #senior #mi...   \n",
       "\n",
       "                                               entities  \n",
       "641   [\\n    {\\n        \"_\": \"MessageEntity\",\\n     ...  \n",
       "2060  [\\n    {\\n        \"_\": \"MessageEntity\",\\n     ...  \n",
       "1001  [\\n    {\\n        \"_\": \"MessageEntity\",\\n     ...  \n",
       "1136                                                NaN  \n",
       "5222  [\\n    {\\n        \"_\": \"MessageEntity\",\\n     ...  "
      ]
     },
     "execution_count": 20,
     "metadata": {},
     "output_type": "execute_result"
    }
   ],
   "source": [
    "# финальный вариант\n",
    "\n",
    "data.info()\n",
    "data.sample(5, random_state=0)"
   ]
  },
  {
   "cell_type": "code",
   "execution_count": null,
   "id": "f96a0f9b",
   "metadata": {},
   "outputs": [],
   "source": []
  },
  {
   "cell_type": "code",
   "execution_count": null,
   "id": "c0990b74",
   "metadata": {},
   "outputs": [],
   "source": []
  }
 ],
 "metadata": {
  "ExecuteTimeLog": [
   {
    "duration": 12,
    "start_time": "2022-09-09T23:31:11.087Z"
   },
   {
    "duration": 991,
    "start_time": "2022-09-09T23:34:28.507Z"
   },
   {
    "duration": 15184,
    "start_time": "2022-09-09T23:35:48.119Z"
   },
   {
    "duration": 318,
    "start_time": "2022-09-09T23:37:13.663Z"
   },
   {
    "duration": 41,
    "start_time": "2022-09-09T23:41:41.059Z"
   },
   {
    "duration": 46,
    "start_time": "2022-09-09T23:41:57.807Z"
   },
   {
    "duration": 297,
    "start_time": "2022-09-09T23:42:18.501Z"
   },
   {
    "duration": 947,
    "start_time": "2022-09-09T23:42:26.950Z"
   },
   {
    "duration": 3,
    "start_time": "2022-09-09T23:42:27.899Z"
   },
   {
    "duration": 48,
    "start_time": "2022-09-09T23:42:27.903Z"
   },
   {
    "duration": 0,
    "start_time": "2022-09-09T23:42:27.952Z"
   },
   {
    "duration": 45,
    "start_time": "2022-09-09T23:42:53.036Z"
   },
   {
    "duration": 15449,
    "start_time": "2022-09-09T23:43:13.159Z"
   },
   {
    "duration": 367,
    "start_time": "2022-09-09T23:44:03.455Z"
   },
   {
    "duration": 317,
    "start_time": "2022-09-09T23:45:53.139Z"
   },
   {
    "duration": 228,
    "start_time": "2022-09-09T23:46:16.736Z"
   },
   {
    "duration": 385,
    "start_time": "2022-09-09T23:46:27.717Z"
   },
   {
    "duration": 29,
    "start_time": "2022-09-09T23:49:50.911Z"
   },
   {
    "duration": 21,
    "start_time": "2022-09-09T23:50:09.965Z"
   },
   {
    "duration": 3,
    "start_time": "2022-09-09T23:50:17.203Z"
   },
   {
    "duration": 22219,
    "start_time": "2022-09-09T23:50:17.924Z"
   },
   {
    "duration": 419,
    "start_time": "2022-09-09T23:51:03.089Z"
   },
   {
    "duration": 216,
    "start_time": "2022-09-09T23:53:40.883Z"
   },
   {
    "duration": 216,
    "start_time": "2022-09-09T23:53:57.900Z"
   },
   {
    "duration": 46,
    "start_time": "2022-09-09T23:56:40.497Z"
   },
   {
    "duration": 18,
    "start_time": "2022-09-09T23:56:44.605Z"
   },
   {
    "duration": 19668,
    "start_time": "2022-09-09T23:57:01.981Z"
   },
   {
    "duration": 410,
    "start_time": "2022-09-09T23:57:21.651Z"
   },
   {
    "duration": 3,
    "start_time": "2022-09-09T23:58:22.077Z"
   },
   {
    "duration": 37,
    "start_time": "2022-09-09T23:58:22.609Z"
   },
   {
    "duration": 3,
    "start_time": "2022-09-09T23:58:23.360Z"
   },
   {
    "duration": 13656,
    "start_time": "2022-09-09T23:58:25.368Z"
   },
   {
    "duration": 296,
    "start_time": "2022-09-09T23:58:39.026Z"
   },
   {
    "duration": 33,
    "start_time": "2022-09-09T23:59:10.014Z"
   },
   {
    "duration": 16,
    "start_time": "2022-09-09T23:59:10.582Z"
   },
   {
    "duration": 23,
    "start_time": "2022-09-10T00:00:10.271Z"
   },
   {
    "duration": 64,
    "start_time": "2022-09-10T00:03:06.554Z"
   },
   {
    "duration": 19,
    "start_time": "2022-09-10T00:03:08.973Z"
   },
   {
    "duration": 13,
    "start_time": "2022-09-10T00:03:22.313Z"
   },
   {
    "duration": 6,
    "start_time": "2022-09-10T00:03:51.809Z"
   },
   {
    "duration": 44,
    "start_time": "2022-09-10T00:05:57.515Z"
   },
   {
    "duration": 47,
    "start_time": "2022-09-10T00:05:58.939Z"
   },
   {
    "duration": 5,
    "start_time": "2022-09-10T00:05:59.248Z"
   },
   {
    "duration": 54,
    "start_time": "2022-09-10T00:06:04.213Z"
   },
   {
    "duration": 116,
    "start_time": "2022-09-10T00:06:07.708Z"
   },
   {
    "duration": 6,
    "start_time": "2022-09-10T00:06:09.179Z"
   },
   {
    "duration": 45,
    "start_time": "2022-09-10T00:06:12.067Z"
   },
   {
    "duration": 5,
    "start_time": "2022-09-10T00:06:12.488Z"
   },
   {
    "duration": 55,
    "start_time": "2022-09-10T00:06:21.595Z"
   },
   {
    "duration": 7,
    "start_time": "2022-09-10T00:06:22.289Z"
   },
   {
    "duration": 17,
    "start_time": "2022-09-10T00:07:38.773Z"
   },
   {
    "duration": 4,
    "start_time": "2022-09-10T00:07:57.409Z"
   },
   {
    "duration": 5,
    "start_time": "2022-09-10T00:08:16.191Z"
   },
   {
    "duration": 46,
    "start_time": "2022-09-10T00:10:27.278Z"
   },
   {
    "duration": 46,
    "start_time": "2022-09-10T00:11:59.922Z"
   },
   {
    "duration": 54,
    "start_time": "2022-09-10T00:16:28.403Z"
   },
   {
    "duration": 4,
    "start_time": "2022-09-10T00:16:29.402Z"
   },
   {
    "duration": 48,
    "start_time": "2022-09-10T00:16:36.605Z"
   },
   {
    "duration": 70,
    "start_time": "2022-09-10T00:16:46.190Z"
   },
   {
    "duration": 7,
    "start_time": "2022-09-10T00:16:47.037Z"
   },
   {
    "duration": 54,
    "start_time": "2022-09-10T00:16:52.752Z"
   },
   {
    "duration": 7,
    "start_time": "2022-09-10T00:16:53.105Z"
   },
   {
    "duration": 47,
    "start_time": "2022-09-10T00:21:39.711Z"
   },
   {
    "duration": 10,
    "start_time": "2022-09-10T00:22:06.163Z"
   },
   {
    "duration": 49,
    "start_time": "2022-09-10T00:22:40.629Z"
   },
   {
    "duration": 53,
    "start_time": "2022-09-10T00:23:29.079Z"
   },
   {
    "duration": 54,
    "start_time": "2022-09-10T00:23:59.887Z"
   },
   {
    "duration": 55,
    "start_time": "2022-09-10T00:24:16.023Z"
   },
   {
    "duration": 56,
    "start_time": "2022-09-10T00:26:10.308Z"
   },
   {
    "duration": 55,
    "start_time": "2022-09-10T00:26:41.107Z"
   },
   {
    "duration": 51,
    "start_time": "2022-09-10T00:27:03.503Z"
   },
   {
    "duration": 51,
    "start_time": "2022-09-10T00:28:58.253Z"
   },
   {
    "duration": 54,
    "start_time": "2022-09-10T00:30:07.267Z"
   },
   {
    "duration": 51,
    "start_time": "2022-09-10T00:30:19.219Z"
   },
   {
    "duration": 51,
    "start_time": "2022-09-10T00:30:48.045Z"
   },
   {
    "duration": 52,
    "start_time": "2022-09-10T00:31:19.183Z"
   },
   {
    "duration": 50,
    "start_time": "2022-09-10T00:31:25.177Z"
   },
   {
    "duration": 325,
    "start_time": "2022-09-10T00:31:30.613Z"
   },
   {
    "duration": 53,
    "start_time": "2022-09-10T00:31:50.587Z"
   },
   {
    "duration": 52,
    "start_time": "2022-09-10T00:32:03.457Z"
   },
   {
    "duration": 51,
    "start_time": "2022-09-10T00:32:15.587Z"
   },
   {
    "duration": 3,
    "start_time": "2022-09-10T00:35:24.707Z"
   }
  ],
  "kernelspec": {
   "display_name": "Python 3 (ipykernel)",
   "language": "python",
   "name": "python3"
  },
  "language_info": {
   "codemirror_mode": {
    "name": "ipython",
    "version": 3
   },
   "file_extension": ".py",
   "mimetype": "text/x-python",
   "name": "python",
   "nbconvert_exporter": "python",
   "pygments_lexer": "ipython3",
   "version": "3.9.7"
  },
  "toc": {
   "base_numbering": 1,
   "nav_menu": {},
   "number_sections": true,
   "sideBar": true,
   "skip_h1_title": true,
   "title_cell": "Table of Contents",
   "title_sidebar": "Contents",
   "toc_cell": false,
   "toc_position": {},
   "toc_section_display": true,
   "toc_window_display": false
  }
 },
 "nbformat": 4,
 "nbformat_minor": 5
}
