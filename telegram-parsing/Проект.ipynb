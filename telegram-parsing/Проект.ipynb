{
 "cells": [
  {
   "cell_type": "markdown",
   "id": "b0284f05",
   "metadata": {},
   "source": [
    "# Исследование рынка труда для начинающих аналитиков данных"
   ]
  },
  {
   "cell_type": "markdown",
   "id": "d484b300",
   "metadata": {},
   "source": [
    "Поиск работы для начинающих специалистов в сфере IT является одной из самых актуальных тем на рынке труда - помимо общей популярности этой индустрии для первичного трудоустройства, она также является основным направлением для переквалификации уже состоявшихся специалистов из других сфер. Такое большой спрос на вакансии сильно усложняет процесс отбора для нанимающей компании - только на первичный скрининг потенциальных кандидатов может тратиться большая часть рабочего времени специалистов по подбору персонала. Одно из популярных решений последнего времени - размещение вакансий в тематических каналах по поиску работу в мессенджере [Telegram](https://telegram.org/) - это позволяет не только проводить таргетированный поиск в профильных сообществах и размещать вакансии в специализированных карьерных каналах, но и снизить затраты на отбор за счёт оптимизации использования популярных и дорогостоящих агрегаторов вакансий и резюме.\n",
    "\n",
    "**Цель исследования** - собрать данные о вакансиях специалистов в области науки о данных, проанализировать требования к соискателям и составить портрет идеального кандидата для трудоустройства на должность младшего аналитика, а также определить актуальность Telegram как оптимального инструмента для поиска работы.\n",
    "\n",
    "**Ход исследования**\n",
    "\n",
    "Данные будут получены с помощью парсинга данных карьерных каналов Telegram для кандидатов на должности *Data/Product/BI Analyst*. В ходе обзора и предобработки данных будут совершены проверки на дубликаты, пропущенные значения, корректность типов данных, после чего будет оценена необходимость в дополнительном сборе данных из внешних источников. На основе обработанных данных будет проведён исследовательский анализ, в ходе которого будут изучены статистические распределение параметров и будет установлен актуальный период исследования, после чего данные будут проанализированы только в разрезе младших специалистов. На основе выводов предыдущих этапов будет составлен портрет идеального кандидата для должности младшего специалиста и проверены следующие гипотезы:\n",
    "- *Большинство работадателей готовы рассматривать кандидатов без опыта работы*\n",
    "- *Большинство работадателей ждут от кандидата профильное образование* \n",
    "\n",
    "Результаты исследования будут представлены в виде интерактивного дашборда и презентации.\n",
    "\n",
    "Таким образом, исследование будет разбито на следующие этапы:\n",
    "\n",
    "1. [**Сбор и предобработка данных**](#1)\n",
    "2. [**Исследовательский анализ данных**](#2)\n",
    "3. [**Портрет идеального кандидата**](#3)\n",
    "4. [**Проверка гипотез**](#4)\n",
    "5. [**Общий вывод**](#5)\n",
    "\n",
    "Для выполнения проекта будет использованы следующие инструменты:\n",
    "\n",
    "1. **Сбор данных** - библиотеки pyrogram и Beautiful Soup для парсинга сообщений из Telelgram и ссылок на вакансии\n",
    "2. **Предобработка/исследовательский анализ** - библиотеки для анализа и визуализации (pandas/numpy/matplotlib/seaborn)\n",
    "3. **Проверка гипотез** - статистический пакет функций scipy\n",
    "4. **Презентация/Дашюорд** - программы Microsoft PowerPoint/Power BI"
   ]
  },
  {
   "cell_type": "markdown",
   "id": "8de983eb",
   "metadata": {},
   "source": [
    "<a id='1'></a>\n",
    "## Сбор и обзор данных"
   ]
  },
  {
   "cell_type": "markdown",
   "id": "945b571d",
   "metadata": {},
   "source": [
    "Для исследования были выбраны следующие карьерные каналы для специалистов Data Science:\n",
    "\n",
    "- https://t.me/data_hr\n",
    "- https://t.me/biheadhunter\n",
    "- https://t.me/datajob\n",
    "- https://t.me/analyst_job\n",
    "- https://t.me/foranalysts\n",
    "- https://t.me/bds_job\n",
    "- https://t.me/datasciencejobs\n",
    "\n",
    "Каналы содержат вакансии для различных специалистов в области науки о данных, таких как Data Scientist/Engineer, а также специальностей System/Business Analyst. В рамках исследования будут рассмотрены лишь вакансии аналитиков данных и смежных специалистов - Data/Product/BI Analyst. После парсинга данных сырые данные сразу будут отфильтрованы для подходящих вакансий. "
   ]
  },
  {
   "cell_type": "markdown",
   "id": "6f62eb14",
   "metadata": {},
   "source": [
    "### Получение сырых данных"
   ]
  },
  {
   "cell_type": "code",
   "execution_count": 122,
   "id": "43f8cc49",
   "metadata": {},
   "outputs": [],
   "source": [
    "# !pip install pyrogram tgcrypto"
   ]
  },
  {
   "cell_type": "code",
   "execution_count": 123,
   "id": "842e08ec",
   "metadata": {},
   "outputs": [],
   "source": [
    "# !pip install python-dotenv"
   ]
  },
  {
   "cell_type": "code",
   "execution_count": 124,
   "id": "84d23e77",
   "metadata": {},
   "outputs": [],
   "source": [
    "# импортируем библиотеки для сбора и первичной обработки данных\n",
    "\n",
    "import pyrogram\n",
    "import requests\n",
    "import nltk\n",
    "import json\n",
    "import re\n",
    "import os\n",
    "\n",
    "import numpy as np\n",
    "import pandas as pd\n",
    "\n",
    "from bs4 import BeautifulSoup\n",
    "from dotenv import load_dotenv\n",
    "from pyrogram import Client\n",
    "from tqdm.auto import tqdm \n",
    "tqdm.pandas()"
   ]
  },
  {
   "cell_type": "code",
   "execution_count": 125,
   "id": "ae73dd46",
   "metadata": {},
   "outputs": [],
   "source": [
    "# подготавливаем данные для парсера\n",
    "\n",
    "dotenv_path = os.path.join('dot.env')\n",
    "\n",
    "if os.path.exists(dotenv_path):\n",
    "    load_dotenv(dotenv_path)\n",
    "\n",
    "os.environ['DEMO']\n",
    "\n",
    "API_ID = os.environ['API_ID']\n",
    "API_HASH = os.environ['API_HASH']"
   ]
  },
  {
   "cell_type": "code",
   "execution_count": 126,
   "id": "7c085c8d",
   "metadata": {},
   "outputs": [],
   "source": [
    "# скрипт парсера\n",
    "\n",
    "# from pyrogram import Client\n",
    "# import os\n",
    "# from dotenv import load_dotenv\n",
    "# import pandas as pd\n",
    "\n",
    "\n",
    "# path = os.path.dirname(os.path.abspath(__file__))\n",
    "\n",
    "# dotenv_path = os.path.join(path + '/dot.env')\n",
    "# if os.path.exists(dotenv_path):\n",
    "#     load_dotenv(dotenv_path)\n",
    "    \n",
    "# API_ID = os.environ['API_ID']\n",
    "# API_HASH = os.environ['API_HASH']\n",
    "\n",
    "# targets = ['data_hr', 'biheadhunter', 'datajob', 'analyst_job', \n",
    "# 'foranalysts','bds_job', 'datasciencejobs']\n",
    "# all_messages = []\n",
    "\n",
    "# try:\n",
    "#     with Client(\"my_account\", API_ID, API_HASH) as app:\n",
    "#         for target in targets:\n",
    "#             for message in app.get_chat_history(target, limit=2000):\n",
    "#                 all_messages.append([message.sender_chat, message.id, message.date, message.text, message.entities])\n",
    "    \n",
    "#     df = pd.DataFrame(all_messages)\n",
    "#     df.columns = [\"chat\", \"message_id\", \"date\", \"text\", \"entities\"]\n",
    "#     df.to_csv(path + '/data.csv', index=False)\n",
    "#     print('Success: ', path + '/data.csv')\n",
    "# except Exception as e:\n",
    "#     print('Error: ', e)"
   ]
  },
  {
   "cell_type": "markdown",
   "id": "3b2a28d3",
   "metadata": {},
   "source": [
    "Запускаем скрипт парсера из терминала:"
   ]
  },
  {
   "cell_type": "code",
   "execution_count": 127,
   "id": "d2d9c8d1",
   "metadata": {
    "scrolled": true
   },
   "outputs": [],
   "source": [
    "# !python parser_script.py"
   ]
  },
  {
   "cell_type": "code",
   "execution_count": 128,
   "id": "430fce9e",
   "metadata": {
    "scrolled": false
   },
   "outputs": [
    {
     "name": "stdout",
     "output_type": "stream",
     "text": [
      "<class 'pandas.core.frame.DataFrame'>\n",
      "RangeIndex: 6234 entries, 0 to 6233\n",
      "Data columns (total 5 columns):\n",
      " #   Column      Non-Null Count  Dtype         \n",
      "---  ------      --------------  -----         \n",
      " 0   chat        4239 non-null   object        \n",
      " 1   message_id  6234 non-null   int64         \n",
      " 2   date        6234 non-null   datetime64[ns]\n",
      " 3   text        5604 non-null   object        \n",
      " 4   entities    5489 non-null   object        \n",
      "dtypes: datetime64[ns](1), int64(1), object(3)\n",
      "memory usage: 243.6+ KB\n"
     ]
    },
    {
     "data": {
      "text/html": [
       "<div>\n",
       "<style scoped>\n",
       "    .dataframe tbody tr th:only-of-type {\n",
       "        vertical-align: middle;\n",
       "    }\n",
       "\n",
       "    .dataframe tbody tr th {\n",
       "        vertical-align: top;\n",
       "    }\n",
       "\n",
       "    .dataframe thead th {\n",
       "        text-align: right;\n",
       "    }\n",
       "</style>\n",
       "<table border=\"1\" class=\"dataframe\">\n",
       "  <thead>\n",
       "    <tr style=\"text-align: right;\">\n",
       "      <th></th>\n",
       "      <th>chat</th>\n",
       "      <th>message_id</th>\n",
       "      <th>date</th>\n",
       "      <th>text</th>\n",
       "      <th>entities</th>\n",
       "    </tr>\n",
       "  </thead>\n",
       "  <tbody>\n",
       "    <tr>\n",
       "      <th>5828</th>\n",
       "      <td>{\\n    \"_\": \"Chat\",\\n    \"id\": -1001321264581,...</td>\n",
       "      <td>454</td>\n",
       "      <td>2021-04-03 10:02:25</td>\n",
       "      <td>#office #moscow #москва #vacancy \\n\\nТребуется...</td>\n",
       "      <td>[\\n    {\\n        \"_\": \"MessageEntity\",\\n     ...</td>\n",
       "    </tr>\n",
       "    <tr>\n",
       "      <th>661</th>\n",
       "      <td>{\\n    \"_\": \"Chat\",\\n    \"id\": -1001291755040,...</td>\n",
       "      <td>275</td>\n",
       "      <td>2020-10-25 14:23:06</td>\n",
       "      <td>@helen09977</td>\n",
       "      <td>[\\n    {\\n        \"_\": \"MessageEntity\",\\n     ...</td>\n",
       "    </tr>\n",
       "    <tr>\n",
       "      <th>1189</th>\n",
       "      <td>{\\n    \"_\": \"Chat\",\\n    \"id\": -1001483488834,...</td>\n",
       "      <td>240</td>\n",
       "      <td>2021-10-24 19:00:05</td>\n",
       "      <td>👔 Data scientist\\n⛳️ Форпост       \\n💼🥁 Работа...</td>\n",
       "      <td>[\\n    {\\n        \"_\": \"MessageEntity\",\\n     ...</td>\n",
       "    </tr>\n",
       "    <tr>\n",
       "      <th>2579</th>\n",
       "      <td>NaN</td>\n",
       "      <td>59438</td>\n",
       "      <td>2022-09-05 11:46:31</td>\n",
       "      <td>#вакансия #естьработа #удаленка  #релокация #а...</td>\n",
       "      <td>[\\n    {\\n        \"_\": \"MessageEntity\",\\n     ...</td>\n",
       "    </tr>\n",
       "    <tr>\n",
       "      <th>2165</th>\n",
       "      <td>NaN</td>\n",
       "      <td>60162</td>\n",
       "      <td>2022-09-19 10:24:08</td>\n",
       "      <td>#вакансия  #системный_аналитик #любой_город  #...</td>\n",
       "      <td>[\\n    {\\n        \"_\": \"MessageEntity\",\\n     ...</td>\n",
       "    </tr>\n",
       "  </tbody>\n",
       "</table>\n",
       "</div>"
      ],
      "text/plain": [
       "                                                   chat  message_id  \\\n",
       "5828  {\\n    \"_\": \"Chat\",\\n    \"id\": -1001321264581,...         454   \n",
       "661   {\\n    \"_\": \"Chat\",\\n    \"id\": -1001291755040,...         275   \n",
       "1189  {\\n    \"_\": \"Chat\",\\n    \"id\": -1001483488834,...         240   \n",
       "2579                                                NaN       59438   \n",
       "2165                                                NaN       60162   \n",
       "\n",
       "                    date                                               text  \\\n",
       "5828 2021-04-03 10:02:25  #office #moscow #москва #vacancy \\n\\nТребуется...   \n",
       "661  2020-10-25 14:23:06                                        @helen09977   \n",
       "1189 2021-10-24 19:00:05  👔 Data scientist\\n⛳️ Форпост       \\n💼🥁 Работа...   \n",
       "2579 2022-09-05 11:46:31  #вакансия #естьработа #удаленка  #релокация #а...   \n",
       "2165 2022-09-19 10:24:08  #вакансия  #системный_аналитик #любой_город  #...   \n",
       "\n",
       "                                               entities  \n",
       "5828  [\\n    {\\n        \"_\": \"MessageEntity\",\\n     ...  \n",
       "661   [\\n    {\\n        \"_\": \"MessageEntity\",\\n     ...  \n",
       "1189  [\\n    {\\n        \"_\": \"MessageEntity\",\\n     ...  \n",
       "2579  [\\n    {\\n        \"_\": \"MessageEntity\",\\n     ...  \n",
       "2165  [\\n    {\\n        \"_\": \"MessageEntity\",\\n     ...  "
      ]
     },
     "execution_count": 128,
     "metadata": {},
     "output_type": "execute_result"
    }
   ],
   "source": [
    "# сохраняем данные и выводим основную информацию\n",
    "\n",
    "data = pd.read_csv('parsed_data.csv', parse_dates=['date'])\n",
    "\n",
    "data.info()\n",
    "data.sample(5, random_state=0)"
   ]
  },
  {
   "cell_type": "code",
   "execution_count": null,
   "id": "20b4019c",
   "metadata": {},
   "outputs": [],
   "source": []
  },
  {
   "cell_type": "markdown",
   "id": "c39ef154",
   "metadata": {},
   "source": [
    "Для оптимизации работы с текстом сразу избавимся от эмодзи:"
   ]
  },
  {
   "cell_type": "code",
   "execution_count": 129,
   "id": "d3d408f9",
   "metadata": {},
   "outputs": [],
   "source": [
    "# удалим данные с пропущенным значение в столбце 'text'\n",
    "\n",
    "data.dropna(subset=['text'], inplace=True)"
   ]
  },
  {
   "cell_type": "code",
   "execution_count": 130,
   "id": "51c41f1a",
   "metadata": {},
   "outputs": [],
   "source": [
    "# напишем функцию для удаления эмодзи\n",
    "\n",
    "def remove_emoji(string):\n",
    "    emoji_pattern = re.compile(\"[\"\n",
    "                           u\"\\U0001F600-\\U0001F64F\"  # emoticons\n",
    "                           u\"\\U0001F300-\\U0001F5FF\"  # symbols & pictographs\n",
    "                           u\"\\U0001F680-\\U0001F6FF\"  # transport & map symbols\n",
    "                           u\"\\U0001F1E0-\\U0001F1FF\"  # flags (iOS)\n",
    "                           u\"\\U00002702-\\U000027B0\"\n",
    "                           u\"\\U000024C2-\\U0001F251\"\n",
    "                           \"]+\", flags=re.UNICODE)\n",
    "    return emoji_pattern.sub(r'', string)\n",
    "\n",
    "\n",
    "data['text'] = data['text'].apply(remove_emoji)"
   ]
  },
  {
   "cell_type": "code",
   "execution_count": 147,
   "id": "9fa43be2",
   "metadata": {},
   "outputs": [
    {
     "name": "stdout",
     "output_type": "stream",
     "text": [
      "нихуя\n"
     ]
    },
    {
     "data": {
      "text/plain": [
       "'data scientist'"
      ]
     },
     "execution_count": 147,
     "metadata": {},
     "output_type": "execute_result"
    }
   ],
   "source": [
    "test = 'DATA SCIENTIST'\n",
    "\n",
    "ds = r'data'\n",
    "\n",
    "if re.search(val, test.lower()):\n",
    "             print('ну ок')\n",
    "else:\n",
    "    print('нихуя')"
   ]
  },
  {
   "cell_type": "markdown",
   "id": "6fe6ea38",
   "metadata": {},
   "source": [
    "Получили сырые данные, состоящие из 6,234 строк и 5 столбцов. Для оптимизации дальнейшей обработки попробуем сразу отфильтровать вакансии для аналитиков данных с помощью регулярного выражения:"
   ]
  },
  {
   "cell_type": "code",
   "execution_count": 131,
   "id": "eb8ab0cc",
   "metadata": {
    "scrolled": true
   },
   "outputs": [
    {
     "data": {
      "text/plain": [
       "False    3154\n",
       "True     2450\n",
       "Name: da, dtype: int64"
      ]
     },
     "metadata": {},
     "output_type": "display_data"
    },
    {
     "data": {
      "text/plain": [
       "False    4287\n",
       "True     1317\n",
       "Name: pa, dtype: int64"
      ]
     },
     "metadata": {},
     "output_type": "display_data"
    },
    {
     "data": {
      "text/plain": [
       "False    4123\n",
       "True     1481\n",
       "Name: bi, dtype: int64"
      ]
     },
     "metadata": {},
     "output_type": "display_data"
    },
    {
     "data": {
      "text/plain": [
       "False    4220\n",
       "True     1384\n",
       "Name: de, dtype: int64"
      ]
     },
     "metadata": {},
     "output_type": "display_data"
    },
    {
     "data": {
      "text/plain": [
       "False    5101\n",
       "True      503\n",
       "Name: ds, dtype: int64"
      ]
     },
     "metadata": {},
     "output_type": "display_data"
    }
   ],
   "source": [
    "# пишем регулярное выражения для поиска подходящих вакансий\n",
    "\n",
    "da = r'data analyst|data analysis|аналитик данных|анализ данных|#da|A/B'\n",
    "pa = r'product analyst|продуктовый анализ|продуктовый аналитик'\n",
    "bi = r'datalens|tableau|power bi|bi analyst'\n",
    "ds = r'scien|дс|саен|data scientist|pytorch|машинное обучение|learning|vision|nlp'\n",
    "de = r'engineer|инженер|spark|airflow|hadooop|scala|#de|etl|linux|архитект[оy]р[аы]|хранилище|разработчик|desktop'\n",
    "\n",
    "# создаём столбцы для фильтрации данных\n",
    "\n",
    "jobs = ['da', 'pa', 'bi', 'de', 'ds']\n",
    "\n",
    "for val in jobs:\n",
    "    \n",
    "    data[val] = (\n",
    "        data['text']\n",
    "        .apply(\n",
    "            lambda x: True if re.search(val, x.lower()) else False)\n",
    "    )\n",
    "\n",
    "# смотрим на результат\n",
    "\n",
    "for vals in jobs:\n",
    "    display(data[vals].value_counts())"
   ]
  },
  {
   "cell_type": "markdown",
   "id": "6a6c3ebe",
   "metadata": {},
   "source": [
    "Так как распределение между вариантами профессии неравномерно, сравнивать их между собой нецелесообразно - дальнейшее исследование проведём без разделения:"
   ]
  },
  {
   "cell_type": "code",
   "execution_count": 119,
   "id": "6012546e",
   "metadata": {
    "scrolled": false
   },
   "outputs": [
    {
     "name": "stdout",
     "output_type": "stream",
     "text": [
      "<class 'pandas.core.frame.DataFrame'>\n",
      "Int64Index: 5101 entries, 0 to 6232\n",
      "Data columns (total 7 columns):\n",
      " #   Column      Non-Null Count  Dtype         \n",
      "---  ------      --------------  -----         \n",
      " 0   chat        3351 non-null   object        \n",
      " 1   message_id  5101 non-null   int64         \n",
      " 2   date        5101 non-null   datetime64[ns]\n",
      " 3   text        5101 non-null   object        \n",
      " 4   entities    4988 non-null   object        \n",
      " 5   de          5101 non-null   bool          \n",
      " 6   ds          5101 non-null   bool          \n",
      "dtypes: bool(2), datetime64[ns](1), int64(1), object(3)\n",
      "memory usage: 249.1+ KB\n"
     ]
    },
    {
     "data": {
      "text/html": [
       "<div>\n",
       "<style scoped>\n",
       "    .dataframe tbody tr th:only-of-type {\n",
       "        vertical-align: middle;\n",
       "    }\n",
       "\n",
       "    .dataframe tbody tr th {\n",
       "        vertical-align: top;\n",
       "    }\n",
       "\n",
       "    .dataframe thead th {\n",
       "        text-align: right;\n",
       "    }\n",
       "</style>\n",
       "<table border=\"1\" class=\"dataframe\">\n",
       "  <thead>\n",
       "    <tr style=\"text-align: right;\">\n",
       "      <th></th>\n",
       "      <th>chat</th>\n",
       "      <th>message_id</th>\n",
       "      <th>date</th>\n",
       "      <th>text</th>\n",
       "      <th>entities</th>\n",
       "      <th>de</th>\n",
       "      <th>ds</th>\n",
       "    </tr>\n",
       "  </thead>\n",
       "  <tbody>\n",
       "    <tr>\n",
       "      <th>3106</th>\n",
       "      <td>NaN</td>\n",
       "      <td>58616</td>\n",
       "      <td>2022-08-15 15:50:22</td>\n",
       "      <td>#outstaff #available #1C                      ...</td>\n",
       "      <td>[\\n    {\\n        \"_\": \"MessageEntity\",\\n     ...</td>\n",
       "      <td>False</td>\n",
       "      <td>False</td>\n",
       "    </tr>\n",
       "    <tr>\n",
       "      <th>388</th>\n",
       "      <td>{\\n    \"_\": \"Chat\",\\n    \"id\": -1001291755040,...</td>\n",
       "      <td>592</td>\n",
       "      <td>2022-01-21 18:08:34</td>\n",
       "      <td>#удаленно #BI  \\n#BusinessAnalyst\\n#DataAnalys...</td>\n",
       "      <td>[\\n    {\\n        \"_\": \"MessageEntity\",\\n     ...</td>\n",
       "      <td>False</td>\n",
       "      <td>False</td>\n",
       "    </tr>\n",
       "    <tr>\n",
       "      <th>5400</th>\n",
       "      <td>{\\n    \"_\": \"Chat\",\\n    \"id\": -1001321264581,...</td>\n",
       "      <td>893</td>\n",
       "      <td>2022-03-20 09:30:50</td>\n",
       "      <td>#Вакансия #удаленка #DataEngineer #python #cli...</td>\n",
       "      <td>[\\n    {\\n        \"_\": \"MessageEntity\",\\n     ...</td>\n",
       "      <td>True</td>\n",
       "      <td>False</td>\n",
       "    </tr>\n",
       "    <tr>\n",
       "      <th>1470</th>\n",
       "      <td>NaN</td>\n",
       "      <td>61335</td>\n",
       "      <td>2022-10-17 09:22:32</td>\n",
       "      <td>#вакансия #аналитик #blockchain #вилка #офис\\n...</td>\n",
       "      <td>[\\n    {\\n        \"_\": \"MessageEntity\",\\n     ...</td>\n",
       "      <td>False</td>\n",
       "      <td>False</td>\n",
       "    </tr>\n",
       "    <tr>\n",
       "      <th>2522</th>\n",
       "      <td>NaN</td>\n",
       "      <td>59515</td>\n",
       "      <td>2022-09-06 13:41:53</td>\n",
       "      <td>https://docs.google.com/presentation/d/e/2PACX...</td>\n",
       "      <td>[\\n    {\\n        \"_\": \"MessageEntity\",\\n     ...</td>\n",
       "      <td>True</td>\n",
       "      <td>False</td>\n",
       "    </tr>\n",
       "    <tr>\n",
       "      <th>3432</th>\n",
       "      <td>{\\n    \"_\": \"Chat\",\\n    \"id\": -1001137236002,...</td>\n",
       "      <td>4843</td>\n",
       "      <td>2022-10-11 11:05:09</td>\n",
       "      <td>Data Science consultant\\nв Yandex.Cloud —  пуб...</td>\n",
       "      <td>[\\n    {\\n        \"_\": \"MessageEntity\",\\n     ...</td>\n",
       "      <td>True</td>\n",
       "      <td>False</td>\n",
       "    </tr>\n",
       "    <tr>\n",
       "      <th>2355</th>\n",
       "      <td>NaN</td>\n",
       "      <td>59830</td>\n",
       "      <td>2022-09-12 13:08:46</td>\n",
       "      <td>#вакансия #System #analyst #fulltime #Senior #...</td>\n",
       "      <td>[\\n    {\\n        \"_\": \"MessageEntity\",\\n     ...</td>\n",
       "      <td>False</td>\n",
       "      <td>False</td>\n",
       "    </tr>\n",
       "    <tr>\n",
       "      <th>6172</th>\n",
       "      <td>{\\n    \"_\": \"Chat\",\\n    \"id\": -1001321264581,...</td>\n",
       "      <td>71</td>\n",
       "      <td>2020-03-05 22:21:58</td>\n",
       "      <td>#вакансия #москва #mailru\\n\\n Две вакансии от ...</td>\n",
       "      <td>[\\n    {\\n        \"_\": \"MessageEntity\",\\n     ...</td>\n",
       "      <td>True</td>\n",
       "      <td>False</td>\n",
       "    </tr>\n",
       "    <tr>\n",
       "      <th>864</th>\n",
       "      <td>{\\n    \"_\": \"Chat\",\\n    \"id\": -1001291755040,...</td>\n",
       "      <td>50</td>\n",
       "      <td>2020-07-13 18:27:13</td>\n",
       "      <td>Предложение о работе на проекте банка ВТБ \\n\\n...</td>\n",
       "      <td>[\\n    {\\n        \"_\": \"MessageEntity\",\\n     ...</td>\n",
       "      <td>True</td>\n",
       "      <td>False</td>\n",
       "    </tr>\n",
       "    <tr>\n",
       "      <th>2067</th>\n",
       "      <td>NaN</td>\n",
       "      <td>60303</td>\n",
       "      <td>2022-09-22 10:13:53</td>\n",
       "      <td>#вакансия #job #работа #system #analyst #syste...</td>\n",
       "      <td>[\\n    {\\n        \"_\": \"MessageEntity\",\\n     ...</td>\n",
       "      <td>False</td>\n",
       "      <td>False</td>\n",
       "    </tr>\n",
       "    <tr>\n",
       "      <th>4148</th>\n",
       "      <td>{\\n    \"_\": \"Chat\",\\n    \"id\": -1001137236002,...</td>\n",
       "      <td>4089</td>\n",
       "      <td>2022-03-03 13:10:09</td>\n",
       "      <td>Системный аналитик\\nв MVP.Group — один из круп...</td>\n",
       "      <td>[\\n    {\\n        \"_\": \"MessageEntity\",\\n     ...</td>\n",
       "      <td>False</td>\n",
       "      <td>False</td>\n",
       "    </tr>\n",
       "    <tr>\n",
       "      <th>3696</th>\n",
       "      <td>{\\n    \"_\": \"Chat\",\\n    \"id\": -1001137236002,...</td>\n",
       "      <td>4578</td>\n",
       "      <td>2022-07-22 15:12:08</td>\n",
       "      <td>Lead system analyst\\nв Monivolt — лондонский ф...</td>\n",
       "      <td>[\\n    {\\n        \"_\": \"MessageEntity\",\\n     ...</td>\n",
       "      <td>False</td>\n",
       "      <td>False</td>\n",
       "    </tr>\n",
       "    <tr>\n",
       "      <th>3371</th>\n",
       "      <td>NaN</td>\n",
       "      <td>58171</td>\n",
       "      <td>2022-08-01 17:32:51</td>\n",
       "      <td>#вакансия #удаленно #analyst #аналитик #vacanc...</td>\n",
       "      <td>[\\n    {\\n        \"_\": \"MessageEntity\",\\n     ...</td>\n",
       "      <td>False</td>\n",
       "      <td>False</td>\n",
       "    </tr>\n",
       "    <tr>\n",
       "      <th>1787</th>\n",
       "      <td>NaN</td>\n",
       "      <td>60748</td>\n",
       "      <td>2022-10-04 17:25:13</td>\n",
       "      <td>#вакансия #systemanalyst #job #системныйаналит...</td>\n",
       "      <td>[\\n    {\\n        \"_\": \"MessageEntity\",\\n     ...</td>\n",
       "      <td>False</td>\n",
       "      <td>False</td>\n",
       "    </tr>\n",
       "    <tr>\n",
       "      <th>3881</th>\n",
       "      <td>{\\n    \"_\": \"Chat\",\\n    \"id\": -1001137236002,...</td>\n",
       "      <td>4377</td>\n",
       "      <td>2022-05-20 18:34:39</td>\n",
       "      <td>​​Оффер с опционом: что должен знать кандидат?...</td>\n",
       "      <td>[\\n    {\\n        \"_\": \"MessageEntity\",\\n     ...</td>\n",
       "      <td>False</td>\n",
       "      <td>False</td>\n",
       "    </tr>\n",
       "  </tbody>\n",
       "</table>\n",
       "</div>"
      ],
      "text/plain": [
       "                                                   chat  message_id  \\\n",
       "3106                                                NaN       58616   \n",
       "388   {\\n    \"_\": \"Chat\",\\n    \"id\": -1001291755040,...         592   \n",
       "5400  {\\n    \"_\": \"Chat\",\\n    \"id\": -1001321264581,...         893   \n",
       "1470                                                NaN       61335   \n",
       "2522                                                NaN       59515   \n",
       "3432  {\\n    \"_\": \"Chat\",\\n    \"id\": -1001137236002,...        4843   \n",
       "2355                                                NaN       59830   \n",
       "6172  {\\n    \"_\": \"Chat\",\\n    \"id\": -1001321264581,...          71   \n",
       "864   {\\n    \"_\": \"Chat\",\\n    \"id\": -1001291755040,...          50   \n",
       "2067                                                NaN       60303   \n",
       "4148  {\\n    \"_\": \"Chat\",\\n    \"id\": -1001137236002,...        4089   \n",
       "3696  {\\n    \"_\": \"Chat\",\\n    \"id\": -1001137236002,...        4578   \n",
       "3371                                                NaN       58171   \n",
       "1787                                                NaN       60748   \n",
       "3881  {\\n    \"_\": \"Chat\",\\n    \"id\": -1001137236002,...        4377   \n",
       "\n",
       "                    date                                               text  \\\n",
       "3106 2022-08-15 15:50:22  #outstaff #available #1C                      ...   \n",
       "388  2022-01-21 18:08:34  #удаленно #BI  \\n#BusinessAnalyst\\n#DataAnalys...   \n",
       "5400 2022-03-20 09:30:50  #Вакансия #удаленка #DataEngineer #python #cli...   \n",
       "1470 2022-10-17 09:22:32  #вакансия #аналитик #blockchain #вилка #офис\\n...   \n",
       "2522 2022-09-06 13:41:53  https://docs.google.com/presentation/d/e/2PACX...   \n",
       "3432 2022-10-11 11:05:09  Data Science consultant\\nв Yandex.Cloud —  пуб...   \n",
       "2355 2022-09-12 13:08:46  #вакансия #System #analyst #fulltime #Senior #...   \n",
       "6172 2020-03-05 22:21:58  #вакансия #москва #mailru\\n\\n Две вакансии от ...   \n",
       "864  2020-07-13 18:27:13  Предложение о работе на проекте банка ВТБ \\n\\n...   \n",
       "2067 2022-09-22 10:13:53  #вакансия #job #работа #system #analyst #syste...   \n",
       "4148 2022-03-03 13:10:09  Системный аналитик\\nв MVP.Group — один из круп...   \n",
       "3696 2022-07-22 15:12:08  Lead system analyst\\nв Monivolt — лондонский ф...   \n",
       "3371 2022-08-01 17:32:51  #вакансия #удаленно #analyst #аналитик #vacanc...   \n",
       "1787 2022-10-04 17:25:13  #вакансия #systemanalyst #job #системныйаналит...   \n",
       "3881 2022-05-20 18:34:39  ​​Оффер с опционом: что должен знать кандидат?...   \n",
       "\n",
       "                                               entities     de     ds  \n",
       "3106  [\\n    {\\n        \"_\": \"MessageEntity\",\\n     ...  False  False  \n",
       "388   [\\n    {\\n        \"_\": \"MessageEntity\",\\n     ...  False  False  \n",
       "5400  [\\n    {\\n        \"_\": \"MessageEntity\",\\n     ...   True  False  \n",
       "1470  [\\n    {\\n        \"_\": \"MessageEntity\",\\n     ...  False  False  \n",
       "2522  [\\n    {\\n        \"_\": \"MessageEntity\",\\n     ...   True  False  \n",
       "3432  [\\n    {\\n        \"_\": \"MessageEntity\",\\n     ...   True  False  \n",
       "2355  [\\n    {\\n        \"_\": \"MessageEntity\",\\n     ...  False  False  \n",
       "6172  [\\n    {\\n        \"_\": \"MessageEntity\",\\n     ...   True  False  \n",
       "864   [\\n    {\\n        \"_\": \"MessageEntity\",\\n     ...   True  False  \n",
       "2067  [\\n    {\\n        \"_\": \"MessageEntity\",\\n     ...  False  False  \n",
       "4148  [\\n    {\\n        \"_\": \"MessageEntity\",\\n     ...  False  False  \n",
       "3696  [\\n    {\\n        \"_\": \"MessageEntity\",\\n     ...  False  False  \n",
       "3371  [\\n    {\\n        \"_\": \"MessageEntity\",\\n     ...  False  False  \n",
       "1787  [\\n    {\\n        \"_\": \"MessageEntity\",\\n     ...  False  False  \n",
       "3881  [\\n    {\\n        \"_\": \"MessageEntity\",\\n     ...  False  False  "
      ]
     },
     "execution_count": 119,
     "metadata": {},
     "output_type": "execute_result"
    }
   ],
   "source": [
    "# удаляем лишние вакансии\n",
    "\n",
    "data = (\n",
    "    data\n",
    "    .query('(ds == False)') #(da == True|pa == True|bi == True) & \n",
    "    .drop(columns=['da', 'pa', 'bi'])\n",
    ")\n",
    "\n",
    "# смотрим на результат\n",
    "\n",
    "data.info()\n",
    "data.sample(15, random_state=0)"
   ]
  },
  {
   "cell_type": "markdown",
   "id": "c828a2ff",
   "metadata": {},
   "source": [
    "### Предобработка"
   ]
  },
  {
   "cell_type": "markdown",
   "id": "7a83115b",
   "metadata": {},
   "source": [
    "Создадим несколько дополнительных столбцов - с названием чата, ссылками на полное описание вакансии, грейдом требуемого специалиста и наличием требований к образованию:"
   ]
  },
  {
   "cell_type": "code",
   "execution_count": 10,
   "id": "14cd3db9",
   "metadata": {},
   "outputs": [],
   "source": [
    "# заполним пропущенные значения в поле `chat`\n",
    "\n",
    "data = (\n",
    "    data\n",
    "    .fillna(json.dumps({'title':'unspecified'}))\n",
    "    .reset_index(drop=True)\n",
    ")\n",
    "\n",
    "# добавим столбец с названием чата\n",
    "\n",
    "data[\"chat_title\"] = (\n",
    "    data[\"chat\"]\n",
    "    .apply(lambda x: json.loads(x)['title'])\n",
    ")"
   ]
  },
  {
   "cell_type": "code",
   "execution_count": 11,
   "id": "0faefd2a",
   "metadata": {},
   "outputs": [
    {
     "data": {
      "text/plain": [
       "Data Science Jobs / AI / NN / ML / DL / NLP                                                   710\n",
       "unspecified                                                                                   700\n",
       "Big Data Science job                                                                          522\n",
       "Business Intelligence HeadHunter                                                              388\n",
       "Data jobs — вакансии по data science, анализу данных, аналитике, искусственному интеллекту    357\n",
       "Job for Analysts & Data Scientists                                                            352\n",
       "Data Analytics Jobs                                                                           215\n",
       "ALTSHIFT                                                                                        2\n",
       "Name: chat_title, dtype: int64"
      ]
     },
     "execution_count": 11,
     "metadata": {},
     "output_type": "execute_result"
    }
   ],
   "source": [
    "# посмотрим на распределение вакансий по названиям чатов\n",
    "\n",
    "data[\"chat_title\"].value_counts()"
   ]
  },
  {
   "cell_type": "code",
   "execution_count": 12,
   "id": "08aadc29",
   "metadata": {},
   "outputs": [],
   "source": [
    "# пишем функцию для извлечения ссылок из текста сообщений\n",
    "# и добавляем в отдельный столбец\n",
    "\n",
    "def get_links(x, regexp='http\\S+'):\n",
    "    try:\n",
    "        for i in json.loads(x['entities']):\n",
    "            if i['type'] == 'MessageEntityType.TEXT_LINK':\n",
    "                return i['url']\n",
    "            elif i['type'] == 'MessageEntityType.URL':\n",
    "                url = re.findall(regexp, x['text'])[0]\n",
    "                return url        \n",
    "    except:\n",
    "        return None\n",
    "    \n",
    "data['link'] = data.apply(get_links, axis=1)"
   ]
  },
  {
   "cell_type": "code",
   "execution_count": 13,
   "id": "1f5bfb7e",
   "metadata": {},
   "outputs": [
    {
     "data": {
      "text/plain": [
       "False    3234\n",
       "True       12\n",
       "Name: no_exp, dtype: int64"
      ]
     },
     "execution_count": 13,
     "metadata": {},
     "output_type": "execute_result"
    }
   ],
   "source": [
    "# добавляем столбцы с наличием требования к образованию и опыту\n",
    "\n",
    "educ = r'(технич|математ|прикладн|информат)'\n",
    "\n",
    "data['education'] = data['text'].apply(lambda x: True if re.search(educ, x.lower()) else False)\n",
    "data['no_exp'] = data['text'].apply(lambda x: True if re.search(r'без опыта', x.lower()) else False)\n",
    "\n",
    "data['education'].value_counts()\n",
    "data['no_exp'].value_counts()"
   ]
  },
  {
   "cell_type": "code",
   "execution_count": 34,
   "id": "d1de6578",
   "metadata": {},
   "outputs": [
    {
     "data": {
      "text/plain": [
       "middle    2098\n",
       "senior     823\n",
       "junior     325\n",
       "Name: grade, dtype: int64"
      ]
     },
     "execution_count": 34,
     "metadata": {},
     "output_type": "execute_result"
    }
   ],
   "source": [
    "# пишем функцию для получения грейда специалиста\n",
    "\n",
    "def get_grade(text):\n",
    "    \n",
    "    junior = r'(junior|джун|начинающ|стаж[её]р|младший|без опыта|выпускник)'\n",
    "    senior = r'(senior|синьор|сеньор|\\Wстарш|Wlead\\W|\\Whead\\W|\\Wлид\\W|\\Wведущ)'\n",
    "    \n",
    "    if re.search(junior, text.lower()) != None:\n",
    "        return 'junior'\n",
    "    if re.search(senior, text.lower()) != None:\n",
    "        return 'senior'\n",
    "    else:\n",
    "        return 'middle'\n",
    "\n",
    "data['grade'] = data['text'].apply(get_grade)\n",
    "\n",
    "data['grade'].value_counts()"
   ]
  },
  {
   "cell_type": "code",
   "execution_count": 15,
   "id": "3c2161ac",
   "metadata": {},
   "outputs": [],
   "source": [
    "# пишем функцию для парсинга ссылок\n",
    "\n",
    "def parse_site(url, element='div', extra_info=None):\n",
    "    try:\n",
    "        data = requests.get(url).text ###\n",
    "        soup = BeautifulSoup(data)\n",
    "        elements = []\n",
    "        for extra in extra_info:\n",
    "            elements += soup.find_all(element, extra)\n",
    "        html = ''\n",
    "        for i in elements:\n",
    "            html += str(i)\n",
    "        return html\n",
    "    except Exception as e:\n",
    "        return '<p>Не удалось получить элемент</p>'"
   ]
  },
  {
   "cell_type": "code",
   "execution_count": 17,
   "id": "3e2e0bb6",
   "metadata": {},
   "outputs": [],
   "source": [
    "# заранее добавили известные классы на рассматриваемых сайтах\n",
    "\n",
    "# extra_infos = [{'class' : 'list-parent vacancy-desc'}, # proglib\n",
    "#                {'class' : 'vacancy-description'}, ## hh.ru\n",
    "#                {'class' : 'lc-jobs-vacancy__description'}, # yandex\n",
    "#                {'class':'vacancy_vacancyInfo__27MOq'}, # aliftech\n",
    "#                {'class':'lc-group__content lc-group__content_justify_start lc-group__content_viewport lc-screen lpc-section'}, # practicum.yandex\n",
    "#                {'class' : 'wrapper1'}, # https://data.analyst.elama.team/\n",
    "#                {'class' : 'container b-vacancy-v2'}, # getmatch.ru\n",
    "#                {'class': 'job-page__text job-page__text_min-height'}, # profi.ru\n",
    "#                {'itemprop' : 'description'}, # rabota.ru\n",
    "#                {'class' : 'col-main entry-content'},# te-st.ru\n",
    "#                {'class' : 'vacancy-section'}, # hh.ru        \n",
    "#                {'class' : 'bloko-columns-row'}\n",
    "#               ]\n",
    "\n",
    "# # парсим ссылки\n",
    "\n",
    "# data['parsed_text'] = (\n",
    "#     data['link']\n",
    "#     .progress_apply(lambda x: parse_site(x, extra_info=extra_infos))\n",
    "# )"
   ]
  },
  {
   "cell_type": "code",
   "execution_count": 18,
   "id": "abb2ddb7",
   "metadata": {
    "scrolled": false
   },
   "outputs": [
    {
     "name": "stdout",
     "output_type": "stream",
     "text": [
      "<class 'pandas.core.frame.DataFrame'>\n",
      "RangeIndex: 3246 entries, 0 to 3245\n",
      "Data columns (total 10 columns):\n",
      " #   Column      Non-Null Count  Dtype         \n",
      "---  ------      --------------  -----         \n",
      " 0   chat        3246 non-null   object        \n",
      " 1   message_id  3246 non-null   int64         \n",
      " 2   date        3246 non-null   datetime64[ns]\n",
      " 3   text        3246 non-null   object        \n",
      " 4   entities    3246 non-null   object        \n",
      " 5   chat_title  3246 non-null   object        \n",
      " 6   link        1611 non-null   object        \n",
      " 7   education   3246 non-null   bool          \n",
      " 8   no_exp      3246 non-null   bool          \n",
      " 9   grade       3246 non-null   object        \n",
      "dtypes: bool(2), datetime64[ns](1), int64(1), object(6)\n",
      "memory usage: 209.3+ KB\n"
     ]
    },
    {
     "data": {
      "text/html": [
       "<div>\n",
       "<style scoped>\n",
       "    .dataframe tbody tr th:only-of-type {\n",
       "        vertical-align: middle;\n",
       "    }\n",
       "\n",
       "    .dataframe tbody tr th {\n",
       "        vertical-align: top;\n",
       "    }\n",
       "\n",
       "    .dataframe thead th {\n",
       "        text-align: right;\n",
       "    }\n",
       "</style>\n",
       "<table border=\"1\" class=\"dataframe\">\n",
       "  <thead>\n",
       "    <tr style=\"text-align: right;\">\n",
       "      <th></th>\n",
       "      <th>chat</th>\n",
       "      <th>message_id</th>\n",
       "      <th>date</th>\n",
       "      <th>text</th>\n",
       "      <th>entities</th>\n",
       "      <th>chat_title</th>\n",
       "      <th>link</th>\n",
       "      <th>education</th>\n",
       "      <th>no_exp</th>\n",
       "      <th>grade</th>\n",
       "    </tr>\n",
       "  </thead>\n",
       "  <tbody>\n",
       "    <tr>\n",
       "      <th>1559</th>\n",
       "      <td>{\"title\": \"unspecified\"}</td>\n",
       "      <td>58668</td>\n",
       "      <td>2022-08-16 09:23:09</td>\n",
       "      <td>#вакансия #lead\\nВакансия: Lead System Analyst...</td>\n",
       "      <td>[\\n    {\\n        \"_\": \"MessageEntity\",\\n     ...</td>\n",
       "      <td>unspecified</td>\n",
       "      <td>None</td>\n",
       "      <td>False</td>\n",
       "      <td>False</td>\n",
       "      <td>senior</td>\n",
       "    </tr>\n",
       "    <tr>\n",
       "      <th>716</th>\n",
       "      <td>{\\n    \"_\": \"Chat\",\\n    \"id\": -1001483488834,...</td>\n",
       "      <td>334</td>\n",
       "      <td>2022-03-13 19:00:04</td>\n",
       "      <td>👔 Junior Data Engineer\\n⛳️ Метр Квадратный  \\n...</td>\n",
       "      <td>[\\n    {\\n        \"_\": \"MessageEntity\",\\n     ...</td>\n",
       "      <td>Data jobs — вакансии по data science, анализу ...</td>\n",
       "      <td>https://proglib.io/vacancies/junior-data-engin...</td>\n",
       "      <td>False</td>\n",
       "      <td>False</td>\n",
       "      <td>junior</td>\n",
       "    </tr>\n",
       "    <tr>\n",
       "      <th>1726</th>\n",
       "      <td>{\\n    \"_\": \"Chat\",\\n    \"id\": -1001137236002,...</td>\n",
       "      <td>4681</td>\n",
       "      <td>2022-08-23 15:12:10</td>\n",
       "      <td>Data Analyst\\nв Dodo Brands — компания объедин...</td>\n",
       "      <td>[\\n    {\\n        \"_\": \"MessageEntity\",\\n     ...</td>\n",
       "      <td>Job for Analysts &amp; Data Scientists</td>\n",
       "      <td>https://geekjob.ru/hYx9</td>\n",
       "      <td>False</td>\n",
       "      <td>False</td>\n",
       "      <td>tbd</td>\n",
       "    </tr>\n",
       "    <tr>\n",
       "      <th>2621</th>\n",
       "      <td>{\\n    \"_\": \"Chat\",\\n    \"id\": -1001321264581,...</td>\n",
       "      <td>975</td>\n",
       "      <td>2022-05-28 09:20:41</td>\n",
       "      <td>#вакансия #удалённо #job #remote #parttime #пр...</td>\n",
       "      <td>[\\n    {\\n        \"_\": \"MessageEntity\",\\n     ...</td>\n",
       "      <td>Data Science Jobs / AI / NN / ML / DL / NLP</td>\n",
       "      <td>https://otus.ru/lessons/data-engineer/</td>\n",
       "      <td>False</td>\n",
       "      <td>False</td>\n",
       "      <td>junior</td>\n",
       "    </tr>\n",
       "    <tr>\n",
       "      <th>298</th>\n",
       "      <td>{\\n    \"_\": \"Chat\",\\n    \"id\": -1001291755040,...</td>\n",
       "      <td>553</td>\n",
       "      <td>2021-11-01 12:54:29</td>\n",
       "      <td>SmartDataLab\\n\\nищет разработчиков MS SQL на п...</td>\n",
       "      <td>[\\n    {\\n        \"_\": \"MessageEntity\",\\n     ...</td>\n",
       "      <td>Business Intelligence HeadHunter</td>\n",
       "      <td>None</td>\n",
       "      <td>True</td>\n",
       "      <td>False</td>\n",
       "      <td>tbd</td>\n",
       "    </tr>\n",
       "  </tbody>\n",
       "</table>\n",
       "</div>"
      ],
      "text/plain": [
       "                                                   chat  message_id  \\\n",
       "1559                           {\"title\": \"unspecified\"}       58668   \n",
       "716   {\\n    \"_\": \"Chat\",\\n    \"id\": -1001483488834,...         334   \n",
       "1726  {\\n    \"_\": \"Chat\",\\n    \"id\": -1001137236002,...        4681   \n",
       "2621  {\\n    \"_\": \"Chat\",\\n    \"id\": -1001321264581,...         975   \n",
       "298   {\\n    \"_\": \"Chat\",\\n    \"id\": -1001291755040,...         553   \n",
       "\n",
       "                    date                                               text  \\\n",
       "1559 2022-08-16 09:23:09  #вакансия #lead\\nВакансия: Lead System Analyst...   \n",
       "716  2022-03-13 19:00:04  👔 Junior Data Engineer\\n⛳️ Метр Квадратный  \\n...   \n",
       "1726 2022-08-23 15:12:10  Data Analyst\\nв Dodo Brands — компания объедин...   \n",
       "2621 2022-05-28 09:20:41  #вакансия #удалённо #job #remote #parttime #пр...   \n",
       "298  2021-11-01 12:54:29  SmartDataLab\\n\\nищет разработчиков MS SQL на п...   \n",
       "\n",
       "                                               entities  \\\n",
       "1559  [\\n    {\\n        \"_\": \"MessageEntity\",\\n     ...   \n",
       "716   [\\n    {\\n        \"_\": \"MessageEntity\",\\n     ...   \n",
       "1726  [\\n    {\\n        \"_\": \"MessageEntity\",\\n     ...   \n",
       "2621  [\\n    {\\n        \"_\": \"MessageEntity\",\\n     ...   \n",
       "298   [\\n    {\\n        \"_\": \"MessageEntity\",\\n     ...   \n",
       "\n",
       "                                             chat_title  \\\n",
       "1559                                        unspecified   \n",
       "716   Data jobs — вакансии по data science, анализу ...   \n",
       "1726                 Job for Analysts & Data Scientists   \n",
       "2621        Data Science Jobs / AI / NN / ML / DL / NLP   \n",
       "298                    Business Intelligence HeadHunter   \n",
       "\n",
       "                                                   link  education  no_exp  \\\n",
       "1559                                               None      False   False   \n",
       "716   https://proglib.io/vacancies/junior-data-engin...      False   False   \n",
       "1726                            https://geekjob.ru/hYx9      False   False   \n",
       "2621             https://otus.ru/lessons/data-engineer/      False   False   \n",
       "298                                                None       True   False   \n",
       "\n",
       "       grade  \n",
       "1559  senior  \n",
       "716   junior  \n",
       "1726     tbd  \n",
       "2621  junior  \n",
       "298      tbd  "
      ]
     },
     "execution_count": 18,
     "metadata": {},
     "output_type": "execute_result"
    }
   ],
   "source": [
    "# финальный вариант\n",
    "\n",
    "data.info()\n",
    "data.sample(5, random_state=0)"
   ]
  },
  {
   "cell_type": "markdown",
   "id": "8a09da40",
   "metadata": {},
   "source": [
    "-"
   ]
  },
  {
   "cell_type": "markdown",
   "id": "e77bc7ec",
   "metadata": {},
   "source": [
    "<a id='2'></a>\n",
    "## Исследовательский анализ данных"
   ]
  },
  {
   "cell_type": "markdown",
   "id": "e878e236",
   "metadata": {},
   "source": [
    "<a id='3'></a>\n",
    "## Портрет идеального кандидата"
   ]
  },
  {
   "cell_type": "markdown",
   "id": "99c0f27e",
   "metadata": {},
   "source": [
    "<a id='4'></a>\n",
    "## Проверка гипотез"
   ]
  },
  {
   "cell_type": "markdown",
   "id": "33a4df09",
   "metadata": {},
   "source": [
    "<a id='6'></a>\n",
    "## Общий вывод"
   ]
  },
  {
   "cell_type": "code",
   "execution_count": null,
   "id": "2a6687b9",
   "metadata": {},
   "outputs": [],
   "source": []
  }
 ],
 "metadata": {
  "kernelspec": {
   "display_name": "Python 3 (ipykernel)",
   "language": "python",
   "name": "python3"
  },
  "language_info": {
   "codemirror_mode": {
    "name": "ipython",
    "version": 3
   },
   "file_extension": ".py",
   "mimetype": "text/x-python",
   "name": "python",
   "nbconvert_exporter": "python",
   "pygments_lexer": "ipython3",
   "version": "3.9.7"
  },
  "toc": {
   "base_numbering": 1,
   "nav_menu": {},
   "number_sections": true,
   "sideBar": true,
   "skip_h1_title": true,
   "title_cell": "Table of Contents",
   "title_sidebar": "Contents",
   "toc_cell": false,
   "toc_position": {},
   "toc_section_display": true,
   "toc_window_display": false
  }
 },
 "nbformat": 4,
 "nbformat_minor": 5
}
