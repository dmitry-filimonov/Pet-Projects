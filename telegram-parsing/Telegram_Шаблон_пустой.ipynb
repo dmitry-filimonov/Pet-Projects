{
 "cells": [
  {
   "cell_type": "markdown",
   "metadata": {},
   "source": [
    "# Парсер вакансий: часть 2"
   ]
  },
  {
   "cell_type": "markdown",
   "metadata": {},
   "source": [
    "API Telegram: https://core.telegram.org/api \\\n",
    "Для того, чтобы парсить телеграм будем использовать библиотеку [Pyrogram](https://docs.pyrogram.org/intro/quickstart)\\\n",
    "Сперва нам нужно создать приложение, чтобы получить доступ к Telegram API. https://my.telegram.org/apps \\\n",
    "Инструкция по созданию записана, будет лежать в папке вместе с записью и тетрадкой"
   ]
  },
  {
   "cell_type": "markdown",
   "metadata": {},
   "source": [
    "### Где взять второй номер для экспериментов?\n",
    "\n",
    "<a href=\"https://moscow.megafon.ru/corporate/mobile/options/calls/dop_nomer.html\">Мегафон</a><br>\n",
    "<a href=\"https://msk.tele2.ru/option/second-number\">ТЕЛЕ2</a>"
   ]
  },
  {
   "cell_type": "markdown",
   "metadata": {},
   "source": [
    "Установим pyrogram и tgcrypto (его рекомендуют в документации к Pyrogram):\\\n",
    "https://docs.pyrogram.org/intro/install"
   ]
  },
  {
   "cell_type": "code",
   "execution_count": 1,
   "metadata": {},
   "outputs": [
    {
     "name": "stdout",
     "output_type": "stream",
     "text": [
      "Requirement already satisfied: pyrogram in c:\\users\\dmitr\\anaconda3\\lib\\site-packages (2.0.51)\n",
      "Requirement already satisfied: tgcrypto in c:\\users\\dmitr\\anaconda3\\lib\\site-packages (1.2.3)\n",
      "Requirement already satisfied: pysocks==1.7.1 in c:\\users\\dmitr\\anaconda3\\lib\\site-packages (from pyrogram) (1.7.1)\n",
      "Requirement already satisfied: pyaes==1.6.1 in c:\\users\\dmitr\\anaconda3\\lib\\site-packages (from pyrogram) (1.6.1)\n"
     ]
    }
   ],
   "source": [
    "!pip install pyrogram tgcrypto"
   ]
  },
  {
   "cell_type": "markdown",
   "metadata": {},
   "source": [
    "Нам потребуется python-dotenv для автоматизации добавления ключей в окружение чтобы не хранить их в коде"
   ]
  },
  {
   "cell_type": "code",
   "execution_count": 2,
   "metadata": {},
   "outputs": [
    {
     "name": "stdout",
     "output_type": "stream",
     "text": [
      "Requirement already satisfied: python-dotenv in c:\\users\\dmitr\\anaconda3\\lib\\site-packages (0.21.0)\n"
     ]
    }
   ],
   "source": [
    "!pip install python-dotenv"
   ]
  },
  {
   "cell_type": "markdown",
   "metadata": {},
   "source": [
    "Ключи в нашем случае - это **App api_id** и **App api_hash** c сайта telegram https://my.telegram.org/apps"
   ]
  },
  {
   "cell_type": "markdown",
   "metadata": {},
   "source": [
    "В файл dot.env (находится в папке) нужно вбить свои API_ID и API_HASH"
   ]
  },
  {
   "cell_type": "markdown",
   "metadata": {},
   "source": [
    "### Импорт библиотек"
   ]
  },
  {
   "cell_type": "code",
   "execution_count": 3,
   "metadata": {},
   "outputs": [],
   "source": [
    "import pyrogram\n",
    "import requests\n",
    "import numpy as np\n",
    "from bs4 import BeautifulSoup\n",
    "from dotenv import load_dotenv\n",
    "import os\n",
    "from pyrogram import Client\n",
    "import pandas as pd\n",
    "import json\n",
    "from datetime import datetime\n",
    "import re\n",
    "from IPython.core.display import display, HTML, clear_output\n",
    "import ipywidgets as widgets"
   ]
  },
  {
   "cell_type": "code",
   "execution_count": 4,
   "metadata": {},
   "outputs": [
    {
     "data": {
      "text/plain": [
       "'2.0.51'"
      ]
     },
     "execution_count": 4,
     "metadata": {},
     "output_type": "execute_result"
    }
   ],
   "source": [
    "pyrogram.__version__"
   ]
  },
  {
   "cell_type": "markdown",
   "metadata": {},
   "source": [
    "### Подготовим api_id и api_hash"
   ]
  },
  {
   "cell_type": "markdown",
   "metadata": {},
   "source": [
    "**ВАЖНО:** Это секретные ключи, поэтому мы их будем брать из environment (файл dot.env в корне нашего проекта)\\\n",
    "Если вы выкладываете код в открытый доступ, проверяйте, чтобы файл *dot.env* не публиковался (например, добавьте в gitignore)"
   ]
  },
  {
   "cell_type": "code",
   "execution_count": 5,
   "metadata": {},
   "outputs": [],
   "source": [
    "dotenv_path = os.path.join('dot.env')\n",
    "if os.path.exists(dotenv_path):\n",
    "    load_dotenv(dotenv_path)"
   ]
  },
  {
   "cell_type": "code",
   "execution_count": 6,
   "metadata": {},
   "outputs": [
    {
     "data": {
      "text/plain": [
       "'demo'"
      ]
     },
     "execution_count": 6,
     "metadata": {},
     "output_type": "execute_result"
    }
   ],
   "source": [
    "os.environ['DEMO']"
   ]
  },
  {
   "cell_type": "code",
   "execution_count": 7,
   "metadata": {},
   "outputs": [],
   "source": [
    "API_ID = os.environ['API_ID']\n",
    "API_HASH = os.environ['API_HASH']"
   ]
  },
  {
   "cell_type": "markdown",
   "metadata": {},
   "source": [
    "### Как все будет работать"
   ]
  },
  {
   "cell_type": "markdown",
   "metadata": {},
   "source": [
    "Особенность работы с Telegram API в качестве клиента в том, что нужно проводить авторизацию\\\n",
    "Если бы мы работали в IDE (например, в PyCharm), то мы бы писали сразу весь код там и запускали.\\\n",
    "Однако Jupyter Notebook нагляднее (плюс тут можно удобно показывать результат), поэтому сейчас будет финт ушами.\\\n",
    "Мы запишем код в файлы *.py*. Первый - тестовый для авторизации. Его запустим прямо в терминале, чтобы ввести телефон и код подтверждения.\\\n",
    "Второй - основной для выгрузки сообщений. Мы его можем запустить прямо отсюда."
   ]
  },
  {
   "cell_type": "markdown",
   "metadata": {},
   "source": [
    "### Файл авторизации и тестирования `pyro_auth.py` (используем для учебных целей)"
   ]
  },
  {
   "cell_type": "markdown",
   "metadata": {},
   "source": [
    "```python\n",
    "#код ниже сохранен в файлике pyro_auth.py здесь он для демонтрации\n",
    "from pyrogram import Client\n",
    "import os\n",
    "from dotenv import load_dotenv\n",
    "\n",
    "\n",
    "path = os.path.dirname(os.path.abspath(__file__)) #путь\n",
    "\n",
    "dotenv_path = os.path.join(path + '/dot.env') #прибавляем к пути наш файлик с данными для авторизации\n",
    "if os.path.exists(dotenv_path): #проверяем существует ли файл\n",
    "    load_dotenv(dotenv_path) #загружаем файл\n",
    "    \n",
    "API_ID = os.environ['API_ID'] #из окружения достаем API ID\n",
    "API_HASH = os.environ['API_HASH'] #и API HASH\n",
    "with Client(\"my_account\", API_ID, API_HASH) as app: #задаем название сессии, появится файлик\n",
    "    app.send_message(\"me\", \"Авторизация прошла успешно\") #отправим себе сообщение\n",
    "```"
   ]
  },
  {
   "cell_type": "markdown",
   "metadata": {},
   "source": [
    "После успешного входа у нас появится файл ```my_account.session```. **Его тоже важно хранить в секрете**"
   ]
  },
  {
   "cell_type": "markdown",
   "metadata": {},
   "source": [
    "<div class=\"alert alert-info\">\n",
    "<b>Важно</b>\n",
    "    \n",
    "При успешной авторизации у вас приложении (на телефоне или компьютере) появится еще одна дополнительная активная сессия с названием CPython. Увидеть ее можно зайдя в Настройки (settings) -- Устройства (Devices). Вы можете закрыть эту сессию в приложении. Таким образом вы отключите ваш ноутбук (систему) от учетной записи. При необходимости сможете снова авторизироваться в терминале с помощью скрипта `pyro_auth.py`, введя номер телефона и пароль.\n",
    "    \n",
    "Также при отказе в будущем от «левого» номера телефона рекомендую удалить свою регистрацию в Телеграм на сайте https://my.telegram.org/ чтобы последующий владелец не видел ваши подписки на каналы и прочее. Также можно удалить регистрацию если вам достался бывший в употреблении номер с действующей регистрацией в Телеграм, и после этого зарегистроваться в Телеграм заново. Так вы избавитесь от мусорных подписок и чужих переписок. <b>Только будьте очень внимательны и не удалите по ошибке свой основной аккаунт!<b/>\n",
    "    \n",
    "</div>"
   ]
  },
  {
   "cell_type": "markdown",
   "metadata": {},
   "source": [
    "### Файл выгрузки (`pyro_run.py`)"
   ]
  },
  {
   "cell_type": "markdown",
   "metadata": {},
   "source": [
    "Первая часть аналогичная файлу авторизации. Только добавляется pandas\n",
    "```python\n",
    "from pyrogram import Client\n",
    "import os\n",
    "from dotenv import load_dotenv\n",
    "import pandas as pd\n",
    "\n",
    "\n",
    "path = os.path.dirname(os.path.abspath(__file__))\n",
    "\n",
    "dotenv_path = os.path.join(path + '/dot.env') #\n",
    "if os.path.exists(dotenv_path):\n",
    "    load_dotenv(dotenv_path)\n",
    "    \n",
    "API_ID = os.environ['API_ID']\n",
    "API_HASH = os.environ['API_HASH']\n",
    "```"
   ]
  },
  {
   "cell_type": "markdown",
   "metadata": {},
   "source": [
    "Затем перечислим чаты, из которых мы будем брать сообщения: \\\n",
    "https://t.me/datajob \\\n",
    "https://t.me/foranalysts \\\n",
    "https://t.me/datasciencejobs \\\n",
    "**На выбранные каналы нужно заранее подписаться!**\n",
    "```python\n",
    "targets = ['datajob', 'foranalysts', 'datasciencejobs']\n",
    "```"
   ]
  },
  {
   "cell_type": "markdown",
   "metadata": {},
   "source": [
    "Дальше создадим список, где будем хранить сообщения:\n",
    "```python\n",
    "all_messages = [] \n",
    "```"
   ]
  },
  {
   "cell_type": "markdown",
   "metadata": {},
   "source": [
    "Основная (рабочая) часть нашего кода выгрузки:\n",
    "```python\n",
    "try:\n",
    "    with Client(\"my_account\", API_ID, API_HASH) as app:\n",
    "        for target in targets:\n",
    "            for message in app.iter_history(target, limit=20):\n",
    "                all_messages.append([message.sender_chat, message.message_id, message.date, message.text, message.entities])\n",
    "    \n",
    "    df = pd.DataFrame(all_messages)\n",
    "    df.columns = [\"chat\", \"message_id\", \"date\", \"text\", \"entities\"]\n",
    "    df.to_csv(path + '/telegram.csv', index=False)\n",
    "    print('Success: ', path + '/telegram.csv')\n",
    "except Exception as e:\n",
    "    print('Error: ', e)\n",
    "```"
   ]
  },
  {
   "cell_type": "markdown",
   "metadata": {},
   "source": [
    "Запускаем код ниже прямо их тетрадки. Код сохранен в файл (скрипт). Можно запустить скрипт и из теминала (если ранее мы авторизовались и нам не нужно будет вводить номер)."
   ]
  },
  {
   "cell_type": "code",
   "execution_count": 10,
   "metadata": {},
   "outputs": [
    {
     "name": "stderr",
     "output_type": "stream",
     "text": [
      "Traceback (most recent call last):\n",
      "  File \"/mnt/c/Users/dmitr/GitHub/Pet-Projects/Telegram-Parsing/parser_script.py\", line 1, in <module>\n",
      "    from pyrogram import Client\n",
      "ModuleNotFoundError: No module named 'pyrogram'\n"
     ]
    },
    {
     "ename": "CalledProcessError",
     "evalue": "Command 'b'python3 parser_script.py #\\xd0\\xb5\\xd1\\x81\\xd0\\xbb\\xd0\\xb8 \\xd1\\x83 \\xd0\\xb2\\xd0\\xb0\\xd1\\x81 \\xd0\\xbe\\xd0\\xb4\\xd0\\xb8\\xd0\\xbd \\xd0\\xbf\\xd0\\xb8\\xd1\\x82\\xd0\\xbe\\xd0\\xbd \\xd0\\xb8\\xd0\\xbb\\xd0\\xb8 Python 3 \\xd1\\x81\\xd1\\x82\\xd0\\xbe\\xd0\\xb8\\xd1\\x82 \\xd0\\xbf\\xd0\\xbe \\xd1\\x83\\xd0\\xbc\\xd0\\xbe\\xd0\\xbb\\xd1\\x87\\xd0\\xb0\\xd0\\xbd\\xd0\\xb8\\xd1\\x8e, \\xd1\\x82\\xd0\\xbe \\xd0\\xba\\xd0\\xbe\\xd0\\xb4 \\xd0\\xb1\\xd1\\x83\\xd0\\xb4\\xd0\\xb5\\xd1\\x82: python pyro_run.py\\n'' returned non-zero exit status 1.",
     "output_type": "error",
     "traceback": [
      "\u001b[1;31m---------------------------------------------------------------------------\u001b[0m",
      "\u001b[1;31mCalledProcessError\u001b[0m                        Traceback (most recent call last)",
      "\u001b[1;32m~\\AppData\\Local\\Temp/ipykernel_3348/1199462527.py\u001b[0m in \u001b[0;36m<module>\u001b[1;34m\u001b[0m\n\u001b[1;32m----> 1\u001b[1;33m \u001b[0mget_ipython\u001b[0m\u001b[1;33m(\u001b[0m\u001b[1;33m)\u001b[0m\u001b[1;33m.\u001b[0m\u001b[0mrun_cell_magic\u001b[0m\u001b[1;33m(\u001b[0m\u001b[1;34m'bash'\u001b[0m\u001b[1;33m,\u001b[0m \u001b[1;34m''\u001b[0m\u001b[1;33m,\u001b[0m \u001b[1;34m'python3 parser_script.py #если у вас один питон или Python 3 стоит по умолчанию, то код будет: python pyro_run.py\\n'\u001b[0m\u001b[1;33m)\u001b[0m\u001b[1;33m\u001b[0m\u001b[1;33m\u001b[0m\u001b[0m\n\u001b[0m",
      "\u001b[1;32m~\\anaconda3\\lib\\site-packages\\IPython\\core\\interactiveshell.py\u001b[0m in \u001b[0;36mrun_cell_magic\u001b[1;34m(self, magic_name, line, cell)\u001b[0m\n\u001b[0;32m   2404\u001b[0m             \u001b[1;32mwith\u001b[0m \u001b[0mself\u001b[0m\u001b[1;33m.\u001b[0m\u001b[0mbuiltin_trap\u001b[0m\u001b[1;33m:\u001b[0m\u001b[1;33m\u001b[0m\u001b[1;33m\u001b[0m\u001b[0m\n\u001b[0;32m   2405\u001b[0m                 \u001b[0margs\u001b[0m \u001b[1;33m=\u001b[0m \u001b[1;33m(\u001b[0m\u001b[0mmagic_arg_s\u001b[0m\u001b[1;33m,\u001b[0m \u001b[0mcell\u001b[0m\u001b[1;33m)\u001b[0m\u001b[1;33m\u001b[0m\u001b[1;33m\u001b[0m\u001b[0m\n\u001b[1;32m-> 2406\u001b[1;33m                 \u001b[0mresult\u001b[0m \u001b[1;33m=\u001b[0m \u001b[0mfn\u001b[0m\u001b[1;33m(\u001b[0m\u001b[1;33m*\u001b[0m\u001b[0margs\u001b[0m\u001b[1;33m,\u001b[0m \u001b[1;33m**\u001b[0m\u001b[0mkwargs\u001b[0m\u001b[1;33m)\u001b[0m\u001b[1;33m\u001b[0m\u001b[1;33m\u001b[0m\u001b[0m\n\u001b[0m\u001b[0;32m   2407\u001b[0m             \u001b[1;32mreturn\u001b[0m \u001b[0mresult\u001b[0m\u001b[1;33m\u001b[0m\u001b[1;33m\u001b[0m\u001b[0m\n\u001b[0;32m   2408\u001b[0m \u001b[1;33m\u001b[0m\u001b[0m\n",
      "\u001b[1;32m~\\anaconda3\\lib\\site-packages\\IPython\\core\\magics\\script.py\u001b[0m in \u001b[0;36mnamed_script_magic\u001b[1;34m(line, cell)\u001b[0m\n\u001b[0;32m    140\u001b[0m             \u001b[1;32melse\u001b[0m\u001b[1;33m:\u001b[0m\u001b[1;33m\u001b[0m\u001b[1;33m\u001b[0m\u001b[0m\n\u001b[0;32m    141\u001b[0m                 \u001b[0mline\u001b[0m \u001b[1;33m=\u001b[0m \u001b[0mscript\u001b[0m\u001b[1;33m\u001b[0m\u001b[1;33m\u001b[0m\u001b[0m\n\u001b[1;32m--> 142\u001b[1;33m             \u001b[1;32mreturn\u001b[0m \u001b[0mself\u001b[0m\u001b[1;33m.\u001b[0m\u001b[0mshebang\u001b[0m\u001b[1;33m(\u001b[0m\u001b[0mline\u001b[0m\u001b[1;33m,\u001b[0m \u001b[0mcell\u001b[0m\u001b[1;33m)\u001b[0m\u001b[1;33m\u001b[0m\u001b[1;33m\u001b[0m\u001b[0m\n\u001b[0m\u001b[0;32m    143\u001b[0m \u001b[1;33m\u001b[0m\u001b[0m\n\u001b[0;32m    144\u001b[0m         \u001b[1;31m# write a basic docstring:\u001b[0m\u001b[1;33m\u001b[0m\u001b[1;33m\u001b[0m\u001b[0m\n",
      "\u001b[1;32m~\\anaconda3\\lib\\site-packages\\decorator.py\u001b[0m in \u001b[0;36mfun\u001b[1;34m(*args, **kw)\u001b[0m\n\u001b[0;32m    230\u001b[0m             \u001b[1;32mif\u001b[0m \u001b[1;32mnot\u001b[0m \u001b[0mkwsyntax\u001b[0m\u001b[1;33m:\u001b[0m\u001b[1;33m\u001b[0m\u001b[1;33m\u001b[0m\u001b[0m\n\u001b[0;32m    231\u001b[0m                 \u001b[0margs\u001b[0m\u001b[1;33m,\u001b[0m \u001b[0mkw\u001b[0m \u001b[1;33m=\u001b[0m \u001b[0mfix\u001b[0m\u001b[1;33m(\u001b[0m\u001b[0margs\u001b[0m\u001b[1;33m,\u001b[0m \u001b[0mkw\u001b[0m\u001b[1;33m,\u001b[0m \u001b[0msig\u001b[0m\u001b[1;33m)\u001b[0m\u001b[1;33m\u001b[0m\u001b[1;33m\u001b[0m\u001b[0m\n\u001b[1;32m--> 232\u001b[1;33m             \u001b[1;32mreturn\u001b[0m \u001b[0mcaller\u001b[0m\u001b[1;33m(\u001b[0m\u001b[0mfunc\u001b[0m\u001b[1;33m,\u001b[0m \u001b[1;33m*\u001b[0m\u001b[1;33m(\u001b[0m\u001b[0mextras\u001b[0m \u001b[1;33m+\u001b[0m \u001b[0margs\u001b[0m\u001b[1;33m)\u001b[0m\u001b[1;33m,\u001b[0m \u001b[1;33m**\u001b[0m\u001b[0mkw\u001b[0m\u001b[1;33m)\u001b[0m\u001b[1;33m\u001b[0m\u001b[1;33m\u001b[0m\u001b[0m\n\u001b[0m\u001b[0;32m    233\u001b[0m     \u001b[0mfun\u001b[0m\u001b[1;33m.\u001b[0m\u001b[0m__name__\u001b[0m \u001b[1;33m=\u001b[0m \u001b[0mfunc\u001b[0m\u001b[1;33m.\u001b[0m\u001b[0m__name__\u001b[0m\u001b[1;33m\u001b[0m\u001b[1;33m\u001b[0m\u001b[0m\n\u001b[0;32m    234\u001b[0m     \u001b[0mfun\u001b[0m\u001b[1;33m.\u001b[0m\u001b[0m__doc__\u001b[0m \u001b[1;33m=\u001b[0m \u001b[0mfunc\u001b[0m\u001b[1;33m.\u001b[0m\u001b[0m__doc__\u001b[0m\u001b[1;33m\u001b[0m\u001b[1;33m\u001b[0m\u001b[0m\n",
      "\u001b[1;32m~\\anaconda3\\lib\\site-packages\\IPython\\core\\magic.py\u001b[0m in \u001b[0;36m<lambda>\u001b[1;34m(f, *a, **k)\u001b[0m\n\u001b[0;32m    185\u001b[0m     \u001b[1;31m# but it's overkill for just that one bit of state.\u001b[0m\u001b[1;33m\u001b[0m\u001b[1;33m\u001b[0m\u001b[0m\n\u001b[0;32m    186\u001b[0m     \u001b[1;32mdef\u001b[0m \u001b[0mmagic_deco\u001b[0m\u001b[1;33m(\u001b[0m\u001b[0marg\u001b[0m\u001b[1;33m)\u001b[0m\u001b[1;33m:\u001b[0m\u001b[1;33m\u001b[0m\u001b[1;33m\u001b[0m\u001b[0m\n\u001b[1;32m--> 187\u001b[1;33m         \u001b[0mcall\u001b[0m \u001b[1;33m=\u001b[0m \u001b[1;32mlambda\u001b[0m \u001b[0mf\u001b[0m\u001b[1;33m,\u001b[0m \u001b[1;33m*\u001b[0m\u001b[0ma\u001b[0m\u001b[1;33m,\u001b[0m \u001b[1;33m**\u001b[0m\u001b[0mk\u001b[0m\u001b[1;33m:\u001b[0m \u001b[0mf\u001b[0m\u001b[1;33m(\u001b[0m\u001b[1;33m*\u001b[0m\u001b[0ma\u001b[0m\u001b[1;33m,\u001b[0m \u001b[1;33m**\u001b[0m\u001b[0mk\u001b[0m\u001b[1;33m)\u001b[0m\u001b[1;33m\u001b[0m\u001b[1;33m\u001b[0m\u001b[0m\n\u001b[0m\u001b[0;32m    188\u001b[0m \u001b[1;33m\u001b[0m\u001b[0m\n\u001b[0;32m    189\u001b[0m         \u001b[1;32mif\u001b[0m \u001b[0mcallable\u001b[0m\u001b[1;33m(\u001b[0m\u001b[0marg\u001b[0m\u001b[1;33m)\u001b[0m\u001b[1;33m:\u001b[0m\u001b[1;33m\u001b[0m\u001b[1;33m\u001b[0m\u001b[0m\n",
      "\u001b[1;32m~\\anaconda3\\lib\\site-packages\\IPython\\core\\magics\\script.py\u001b[0m in \u001b[0;36mshebang\u001b[1;34m(self, line, cell)\u001b[0m\n\u001b[0;32m    243\u001b[0m             \u001b[0msys\u001b[0m\u001b[1;33m.\u001b[0m\u001b[0mstderr\u001b[0m\u001b[1;33m.\u001b[0m\u001b[0mflush\u001b[0m\u001b[1;33m(\u001b[0m\u001b[1;33m)\u001b[0m\u001b[1;33m\u001b[0m\u001b[1;33m\u001b[0m\u001b[0m\n\u001b[0;32m    244\u001b[0m         \u001b[1;32mif\u001b[0m \u001b[0margs\u001b[0m\u001b[1;33m.\u001b[0m\u001b[0mraise_error\u001b[0m \u001b[1;32mand\u001b[0m \u001b[0mp\u001b[0m\u001b[1;33m.\u001b[0m\u001b[0mreturncode\u001b[0m\u001b[1;33m!=\u001b[0m\u001b[1;36m0\u001b[0m\u001b[1;33m:\u001b[0m\u001b[1;33m\u001b[0m\u001b[1;33m\u001b[0m\u001b[0m\n\u001b[1;32m--> 245\u001b[1;33m             \u001b[1;32mraise\u001b[0m \u001b[0mCalledProcessError\u001b[0m\u001b[1;33m(\u001b[0m\u001b[0mp\u001b[0m\u001b[1;33m.\u001b[0m\u001b[0mreturncode\u001b[0m\u001b[1;33m,\u001b[0m \u001b[0mcell\u001b[0m\u001b[1;33m,\u001b[0m \u001b[0moutput\u001b[0m\u001b[1;33m=\u001b[0m\u001b[0mout\u001b[0m\u001b[1;33m,\u001b[0m \u001b[0mstderr\u001b[0m\u001b[1;33m=\u001b[0m\u001b[0merr\u001b[0m\u001b[1;33m)\u001b[0m\u001b[1;33m\u001b[0m\u001b[1;33m\u001b[0m\u001b[0m\n\u001b[0m\u001b[0;32m    246\u001b[0m \u001b[1;33m\u001b[0m\u001b[0m\n\u001b[0;32m    247\u001b[0m     \u001b[1;32mdef\u001b[0m \u001b[0m_run_script\u001b[0m\u001b[1;33m(\u001b[0m\u001b[0mself\u001b[0m\u001b[1;33m,\u001b[0m \u001b[0mp\u001b[0m\u001b[1;33m,\u001b[0m \u001b[0mcell\u001b[0m\u001b[1;33m,\u001b[0m \u001b[0mto_close\u001b[0m\u001b[1;33m)\u001b[0m\u001b[1;33m:\u001b[0m\u001b[1;33m\u001b[0m\u001b[1;33m\u001b[0m\u001b[0m\n",
      "\u001b[1;31mCalledProcessError\u001b[0m: Command 'b'python3 parser_script.py #\\xd0\\xb5\\xd1\\x81\\xd0\\xbb\\xd0\\xb8 \\xd1\\x83 \\xd0\\xb2\\xd0\\xb0\\xd1\\x81 \\xd0\\xbe\\xd0\\xb4\\xd0\\xb8\\xd0\\xbd \\xd0\\xbf\\xd0\\xb8\\xd1\\x82\\xd0\\xbe\\xd0\\xbd \\xd0\\xb8\\xd0\\xbb\\xd0\\xb8 Python 3 \\xd1\\x81\\xd1\\x82\\xd0\\xbe\\xd0\\xb8\\xd1\\x82 \\xd0\\xbf\\xd0\\xbe \\xd1\\x83\\xd0\\xbc\\xd0\\xbe\\xd0\\xbb\\xd1\\x87\\xd0\\xb0\\xd0\\xbd\\xd0\\xb8\\xd1\\x8e, \\xd1\\x82\\xd0\\xbe \\xd0\\xba\\xd0\\xbe\\xd0\\xb4 \\xd0\\xb1\\xd1\\x83\\xd0\\xb4\\xd0\\xb5\\xd1\\x82: python pyro_run.py\\n'' returned non-zero exit status 1."
     ]
    }
   ],
   "source": [
    "%%bash\n",
    "python3 parser_script.py #если у вас один питон или Python 3 стоит по умолчанию, то код будет: python pyro_run.py"
   ]
  },
  {
   "cell_type": "markdown",
   "metadata": {},
   "source": [
    "### Загрузим полученный файл"
   ]
  },
  {
   "cell_type": "code",
   "execution_count": null,
   "metadata": {},
   "outputs": [],
   "source": [
    "telegram = pd.read_csv('telegram.csv')"
   ]
  },
  {
   "cell_type": "code",
   "execution_count": null,
   "metadata": {},
   "outputs": [],
   "source": [
    "telegram.info()"
   ]
  },
  {
   "cell_type": "code",
   "execution_count": null,
   "metadata": {},
   "outputs": [],
   "source": [
    "telegram = telegram.dropna().reset_index(drop=True) #сбросим индекс"
   ]
  },
  {
   "cell_type": "code",
   "execution_count": null,
   "metadata": {},
   "outputs": [],
   "source": [
    "telegram.head()"
   ]
  },
  {
   "cell_type": "markdown",
   "metadata": {},
   "source": [
    "#### Посмотрим вакансию"
   ]
  },
  {
   "cell_type": "code",
   "execution_count": null,
   "metadata": {},
   "outputs": [],
   "source": [
    "print(telegram.iloc[3]['text'].lower()) #к нижему регистру чтобы искать регулярные выражения ниже"
   ]
  },
  {
   "cell_type": "code",
   "execution_count": null,
   "metadata": {
    "scrolled": true
   },
   "outputs": [],
   "source": [
    "telegram"
   ]
  },
  {
   "cell_type": "markdown",
   "metadata": {},
   "source": [
    "#### Преобразуем дату"
   ]
  },
  {
   "cell_type": "code",
   "execution_count": null,
   "metadata": {},
   "outputs": [],
   "source": [
    "telegram.date = pd.to_datetime(telegram['date'],unit='s')"
   ]
  },
  {
   "cell_type": "code",
   "execution_count": null,
   "metadata": {},
   "outputs": [],
   "source": [
    "telegram.head()"
   ]
  },
  {
   "cell_type": "markdown",
   "metadata": {},
   "source": [
    "#### Достанем из столбца чат в фомате json IDшник и название чата"
   ]
  },
  {
   "cell_type": "code",
   "execution_count": null,
   "metadata": {},
   "outputs": [],
   "source": [
    "telegram[\"chat_id\"] = telegram[\"chat\"].apply(lambda x: json.loads(x)['id'])\n",
    "telegram[\"title\"] = telegram[\"chat\"].apply(lambda x: json.loads(x)['title'])"
   ]
  },
  {
   "cell_type": "code",
   "execution_count": null,
   "metadata": {},
   "outputs": [],
   "source": [
    "telegram.head(2)"
   ]
  },
  {
   "cell_type": "markdown",
   "metadata": {},
   "source": [
    "#### Посмотрим те вакансии где есть, например, аналитик"
   ]
  },
  {
   "cell_type": "code",
   "execution_count": null,
   "metadata": {},
   "outputs": [],
   "source": [
    "telegram[telegram['text'].str.lower().str.contains('analyst')]"
   ]
  },
  {
   "cell_type": "code",
   "execution_count": null,
   "metadata": {},
   "outputs": [],
   "source": [
    "telegram[telegram['chat_id'] == -1001483488834]['text']"
   ]
  },
  {
   "cell_type": "markdown",
   "metadata": {},
   "source": [
    "<b>Используем регулярные выражения, чтобы получить нужное в сообщениях</b>\\\n",
    "https://docs.python.org/3/library/re.html \\\n",
    "https://regex101.com/"
   ]
  },
  {
   "cell_type": "code",
   "execution_count": null,
   "metadata": {},
   "outputs": [],
   "source": [
    "ds = r'ds|scien|дс|cаен|tensorflow|pytorch'\n",
    "da = r'analyst|analysis|аналитик|bi|business intelligence|биай|tableau'\n",
    "de = r'engineer|инженер|spark|airflow'"
   ]
  },
  {
   "cell_type": "markdown",
   "metadata": {},
   "source": [
    "#### Пометим True или False там где у нас совпадение"
   ]
  },
  {
   "cell_type": "code",
   "execution_count": null,
   "metadata": {},
   "outputs": [],
   "source": [
    "telegram['ds'] = telegram['text'].apply(lambda x: True if re.search(ds, x.lower()) else False)\n",
    "telegram['da'] = telegram['text'].apply(lambda x: True if re.search(da, x.lower()) else False)\n",
    "telegram['de'] = telegram['text'].apply(lambda x: True if re.search(de, x.lower()) else False)"
   ]
  },
  {
   "cell_type": "code",
   "execution_count": null,
   "metadata": {},
   "outputs": [],
   "source": [
    "telegram.tail()"
   ]
  },
  {
   "cell_type": "code",
   "execution_count": null,
   "metadata": {},
   "outputs": [],
   "source": [
    "print(telegram.iloc[48]['text'])"
   ]
  },
  {
   "cell_type": "code",
   "execution_count": null,
   "metadata": {},
   "outputs": [],
   "source": [
    "telegram[(telegram['da']) & (telegram['ds']) & (telegram['de'])]"
   ]
  },
  {
   "cell_type": "code",
   "execution_count": null,
   "metadata": {
    "scrolled": true
   },
   "outputs": [],
   "source": [
    "telegram[telegram['de']]"
   ]
  },
  {
   "cell_type": "markdown",
   "metadata": {},
   "source": [
    "#### Чтобы нам удобно было смотреть ваканисии добавим кнопку из вчерашнего электива"
   ]
  },
  {
   "cell_type": "code",
   "execution_count": null,
   "metadata": {},
   "outputs": [],
   "source": [
    "button = widgets.Button(description=\"Показать\")\n",
    "output = widgets.Output()\n",
    "\n",
    "display(button, output)\n",
    "\n",
    "counter = 0\n",
    "def on_clicked(b):\n",
    "    with output:\n",
    "        try:\n",
    "            global counter\n",
    "            clear_output()\n",
    "            print('№ вакансии: ', counter)\n",
    "            print(telegram['text'][counter])\n",
    "            counter += 1\n",
    "        except Exception as e:\n",
    "            print(\"Вакансии закончились\")\n",
    "            \n",
    "button.on_click(on_clicked)"
   ]
  },
  {
   "cell_type": "markdown",
   "metadata": {},
   "source": [
    "### Достанем все ссылки"
   ]
  },
  {
   "cell_type": "code",
   "execution_count": null,
   "metadata": {},
   "outputs": [],
   "source": [
    "def get_links(x, regexp='http\\S+'): ###\n",
    "    try:\n",
    "        for i in json.loads(x['entities']):\n",
    "            if i['type'] == 'text_link':\n",
    "                return i['url']\n",
    "            elif i['type'] == 'url':\n",
    "                url = re.findall(regexp, x['text'])[0]\n",
    "                return url\n",
    "        \n",
    "    except:\n",
    "        return None"
   ]
  },
  {
   "cell_type": "code",
   "execution_count": null,
   "metadata": {},
   "outputs": [],
   "source": [
    "telegram['url'] = telegram.apply(get_links, axis=1)"
   ]
  },
  {
   "cell_type": "code",
   "execution_count": null,
   "metadata": {},
   "outputs": [],
   "source": [
    "telegram['url'][3]"
   ]
  },
  {
   "cell_type": "markdown",
   "metadata": {},
   "source": [
    "# !"
   ]
  },
  {
   "cell_type": "markdown",
   "metadata": {},
   "source": [
    "### Парсим ссылки"
   ]
  },
  {
   "cell_type": "markdown",
   "metadata": {},
   "source": [
    "Документация BeautifulSoup: https://www.crummy.com/software/BeautifulSoup/bs4/doc/ \n",
    "      "
   ]
  },
  {
   "cell_type": "code",
   "execution_count": null,
   "metadata": {},
   "outputs": [],
   "source": [
    "def parse_site(url, element='div', extra_info=None):\n",
    "    try:\n",
    "        data = requests.get(url).text ###\n",
    "        soup = BeautifulSoup(data)\n",
    "        elements = []\n",
    "        for extra in extra_info:\n",
    "            elements += soup.find_all(element, extra)\n",
    "        html = ''\n",
    "        for i in elements:\n",
    "            html += str(i)\n",
    "        return html\n",
    "    except Exception as e:\n",
    "        return '<p>Не удалось получить элемент</p>'"
   ]
  },
  {
   "cell_type": "markdown",
   "metadata": {},
   "source": [
    "Проверим содержимое"
   ]
  },
  {
   "cell_type": "code",
   "execution_count": null,
   "metadata": {},
   "outputs": [],
   "source": [
    "telegram['url'][14]"
   ]
  },
  {
   "cell_type": "code",
   "execution_count": null,
   "metadata": {},
   "outputs": [],
   "source": [
    "HTML(parse_site(telegram['url'][1], extra_info=[{'class': 'list-parent vacancy-desc'}]))"
   ]
  },
  {
   "cell_type": "markdown",
   "metadata": {},
   "source": [
    "Нужно перебрать все варианты блоков, где отображена информация о вакансиях.\\\n",
    "Если у нас часто встречаются одни и те же сайты, можно взять доп информацию о блоке и указать ее "
   ]
  },
  {
   "cell_type": "code",
   "execution_count": null,
   "metadata": {},
   "outputs": [],
   "source": [
    "#заранее добавили какие есть классы на рассматриваемых сайтах\n",
    "\n",
    "extra_infos = [{'class': 'list-parent vacancy-desc'}, \n",
    "               {'class': 'bp-Vacancy__description bp-VacancyDescription'}, \n",
    "               {'id': 'vacancy-description'},\n",
    "               {'class': 'section__block panel js-show'}]\n",
    "\n",
    "###\n",
    "telegram['parsed_text'] = telegram['url'].apply(lambda x: parse_site(x, extra_info=extra_infos))"
   ]
  },
  {
   "cell_type": "code",
   "execution_count": null,
   "metadata": {},
   "outputs": [],
   "source": [
    "HTML(telegram['parsed_text'][12])"
   ]
  },
  {
   "cell_type": "markdown",
   "metadata": {},
   "source": [
    "### Удобный просмотр"
   ]
  },
  {
   "cell_type": "code",
   "execution_count": null,
   "metadata": {},
   "outputs": [],
   "source": [
    "button_2 = widgets.Button(description=\"Показать вакансии\")\n",
    "output_2 = widgets.Output()\n",
    "\n",
    "display(button_2, output_2)\n",
    "\n",
    "counter_2 = 0\n",
    "def on_clicked_2(b):\n",
    "    with output_2:\n",
    "        try:\n",
    "            global counter_2\n",
    "            clear_output()\n",
    "            print('№ вакансии: ', counter_2)\n",
    "            display(HTML('<h1>Источник: ' + str(telegram['title'][counter_2]) + '</h1>'))\n",
    "            print(telegram['text'][counter_2])\n",
    "            display(HTML(telegram['parsed_text'][counter_2]))\n",
    "            if telegram['url'][counter_2]:\n",
    "                display(HTML('<a href=\"' + str(telegram['url'][counter_2]) + '\" target=\"_blank\">Ссылка из поста</a>'))\n",
    "            counter_2 += 1\n",
    "        except Exception as e:\n",
    "            print(\"Вакансии закончились\")\n",
    "            counter_2 = 0\n",
    "            \n",
    "button_2.on_click(on_clicked_2)"
   ]
  },
  {
   "cell_type": "markdown",
   "metadata": {},
   "source": [
    "### Список телеграм каналов, откуда еще можно тащить вакансии (для примера)\n",
    "https://t.me/data_hr \\\n",
    "https://t.me/biheadhunter \\\n",
    "https://t.me/datajobschannel \\\n",
    "https://t.me/datajobs \\\n",
    "https://t.me/analysts_hunter \\\n",
    "https://t.me/datajob \\\n",
    "https://t.me/analyst_job \\\n",
    "https://t.me/foranalysts \\\n",
    "https://t.me/bds_job \\\n",
    "https://t.me/datajobschannel \\\n",
    "https://t.me/datasciencejobs"
   ]
  },
  {
   "cell_type": "markdown",
   "metadata": {},
   "source": [
    "### Домашнее задание\n",
    "Подготовить парсер: hh, telegram и/или другие источники \\\n",
    "Сформировать единую таблицу вакансий из выбранных источников (возможно, в некоторых полях информация будет неполной) \\\n",
    "Сделать визуализацию, построить графики \\\n",
    "Отобрать из данных вакансии для себя\n",
    "\n",
    "\n",
    "Дедлайн: до 14 апреля 2022\n",
    "\n",
    "Почта: sekotskiy@yandex-team.ru или в Slack"
   ]
  },
  {
   "cell_type": "markdown",
   "metadata": {},
   "source": [
    "### Форма обратной связи по элективу \"Парсер вакансий\"\n",
    "https://forms.yandex.ru/surveys/11486967.4b4b0013ffddcbd3bb49992226be7e35ec2b66f2/"
   ]
  },
  {
   "cell_type": "code",
   "execution_count": null,
   "metadata": {},
   "outputs": [],
   "source": []
  }
 ],
 "metadata": {
  "kernelspec": {
   "display_name": "Python 3 (ipykernel)",
   "language": "python",
   "name": "python3"
  },
  "language_info": {
   "codemirror_mode": {
    "name": "ipython",
    "version": 3
   },
   "file_extension": ".py",
   "mimetype": "text/x-python",
   "name": "python",
   "nbconvert_exporter": "python",
   "pygments_lexer": "ipython3",
   "version": "3.9.7"
  },
  "toc": {
   "base_numbering": 1,
   "nav_menu": {},
   "number_sections": true,
   "sideBar": true,
   "skip_h1_title": false,
   "title_cell": "Table of Contents",
   "title_sidebar": "Contents",
   "toc_cell": false,
   "toc_position": {},
   "toc_section_display": true,
   "toc_window_display": false
  }
 },
 "nbformat": 4,
 "nbformat_minor": 4
}
